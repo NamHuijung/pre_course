{
 "cells": [
  {
   "cell_type": "markdown",
   "id": "3b1428e7",
   "metadata": {},
   "source": [
    "## **Objects in Python**"
   ]
  },
  {
   "cell_type": "markdown",
   "id": "f5f1d8a9",
   "metadata": {},
   "source": [
    "### **축구 선수 정보를 Class로 구현하기**"
   ]
  },
  {
   "cell_type": "code",
   "execution_count": null,
   "id": "9aa6ad6c",
   "metadata": {},
   "outputs": [],
   "source": [
    "# Attribute 추가는 __init__, self와 함께\n",
    "# __init__은 객체 초기화 예약 함수"
   ]
  },
  {
   "cell_type": "code",
   "execution_count": 24,
   "id": "f2bb745e",
   "metadata": {},
   "outputs": [],
   "source": [
    "class SoccerPlayer(object):\n",
    "    def __init__(self, name : str, position : str, back_number : int):\n",
    "        self.name = name\n",
    "        self.position = position\n",
    "        self.back_number = back_number\n",
    "    \n",
    "    \n",
    "    ## print(객체) 했을 때 반환\n",
    "    def __str__(self):\n",
    "        return \"Hello, Myname is %s. My back number is %d\" % \\\n",
    "                (self.name, self.back_number)\n",
    "    \n",
    "    \n",
    "    def change_back_number(self, new_number):\n",
    "        print(\"선수의 등번호를 변경합니다. : From %d to %d\" % (self.back_number, new_number))\n",
    "        self.back_number = new_number\n",
    "    \n",
    "    \n",
    "    ## 객체끼리 더했을 때\n",
    "    def __add__(self, other):\n",
    "        return self.name + other.name"
   ]
  },
  {
   "cell_type": "code",
   "execution_count": 25,
   "id": "60530886",
   "metadata": {},
   "outputs": [],
   "source": [
    "Son = SoccerPlayer('son', 'FW', 7)\n",
    "Park = SoccerPlayer('park', 'WF', 10)"
   ]
  },
  {
   "cell_type": "code",
   "execution_count": 26,
   "id": "52d0aa93",
   "metadata": {},
   "outputs": [
    {
     "data": {
      "text/plain": [
       "False"
      ]
     },
     "execution_count": 26,
     "metadata": {},
     "output_type": "execute_result"
    }
   ],
   "source": [
    "Son is Park"
   ]
  },
  {
   "cell_type": "code",
   "execution_count": 27,
   "id": "0323e468",
   "metadata": {},
   "outputs": [
    {
     "name": "stdout",
     "output_type": "stream",
     "text": [
      "Hello, Myname is park. My back number is 10\n"
     ]
    }
   ],
   "source": [
    "print(Park)"
   ]
  },
  {
   "cell_type": "code",
   "execution_count": 28,
   "id": "01fc1019",
   "metadata": {},
   "outputs": [
    {
     "data": {
      "text/plain": [
       "'sonpark'"
      ]
     },
     "execution_count": 28,
     "metadata": {},
     "output_type": "execute_result"
    }
   ],
   "source": [
    "Son + Park"
   ]
  },
  {
   "cell_type": "code",
   "execution_count": 29,
   "id": "07cf31bc",
   "metadata": {},
   "outputs": [
    {
     "name": "stdout",
     "output_type": "stream",
     "text": [
      "현재 선수의 등번호는 : 10\n"
     ]
    }
   ],
   "source": [
    "Jin = SoccerPlayer('jin', 'MF', 10)\n",
    "print(\"현재 선수의 등번호는 :\", Jin.back_number)"
   ]
  },
  {
   "cell_type": "code",
   "execution_count": 30,
   "id": "4fa14fbe",
   "metadata": {},
   "outputs": [
    {
     "name": "stdout",
     "output_type": "stream",
     "text": [
      "선수의 등번호를 변경합니다. : From 10 to 5\n",
      "현재 선수의 등번호는 : 5\n"
     ]
    }
   ],
   "source": [
    "Jin.change_back_number(5)\n",
    "print(\"현재 선수의 등번호는 :\", Jin.back_number)"
   ]
  },
  {
   "cell_type": "markdown",
   "id": "9de465c0",
   "metadata": {},
   "source": [
    "### **Note 만들기**"
   ]
  },
  {
   "cell_type": "code",
   "execution_count": 1,
   "id": "2bf95340",
   "metadata": {},
   "outputs": [],
   "source": [
    "# Note Class\n",
    "class Note(object):\n",
    "    def __init__(self, content = None):\n",
    "        self.content = content\n",
    "        \n",
    "    def write_content(self, content):\n",
    "        self.content = content\n",
    "        \n",
    "    def remove_all(self):\n",
    "        self.content = \"\"\n",
    "    \n",
    "    def __add__(self, other):\n",
    "        return self.content + other.content\n",
    "    \n",
    "    def __str__(self):\n",
    "        return \"노트에 적힌 내용입니다. : %s\" % self.content"
   ]
  },
  {
   "cell_type": "code",
   "execution_count": 34,
   "id": "1f014016",
   "metadata": {},
   "outputs": [],
   "source": [
    "# Notebook class\n",
    "class NoteBook(object):\n",
    "    def __init__(self, title):\n",
    "        self.title = title\n",
    "        self.page_number = 1\n",
    "        self.notes = {}\n",
    "        \n",
    "    def add_note(self, note, page = 0):\n",
    "        if self.page_number < 300:\n",
    "            if page == 0:\n",
    "                self.notes[self.page_number] = note\n",
    "                self.page_number += 1\n",
    "            else:\n",
    "                self.notes[page] = note\n",
    "                self.page_number += 1\n",
    "        else:\n",
    "            print(\"Page가 모두 채워졌습니다.\")\n",
    "            \n",
    "    def remove_note(self, page_number):\n",
    "        if page_number in self.notes.keys():\n",
    "            return self.notes.pop(page_number)\n",
    "        else:\n",
    "            print(\"해당 페이지는 존재하지 않습니다.\")\n",
    "            \n",
    "    def get_number_of_pages(self):\n",
    "        return len(self.notes.keys())"
   ]
  },
  {
   "cell_type": "code",
   "execution_count": 35,
   "id": "32aa5b1c",
   "metadata": {},
   "outputs": [
    {
     "data": {
      "text/plain": [
       "<__main__.NoteBook at 0x20068762a88>"
      ]
     },
     "execution_count": 35,
     "metadata": {},
     "output_type": "execute_result"
    }
   ],
   "source": [
    "my_notebook = NoteBook('팀랩 강의노트')\n",
    "my_notebook"
   ]
  },
  {
   "cell_type": "code",
   "execution_count": 36,
   "id": "dd349e4d",
   "metadata": {},
   "outputs": [
    {
     "data": {
      "text/plain": [
       "'팀랩 강의노트'"
      ]
     },
     "execution_count": 36,
     "metadata": {},
     "output_type": "execute_result"
    }
   ],
   "source": [
    "my_notebook.title"
   ]
  },
  {
   "cell_type": "code",
   "execution_count": 37,
   "id": "54158e21",
   "metadata": {},
   "outputs": [
    {
     "name": "stdout",
     "output_type": "stream",
     "text": [
      "노트에 적힌 내용입니다. : 아 수업 하기 싫다\n"
     ]
    }
   ],
   "source": [
    "new_note = Note('아 수업 하기 싫다')\n",
    "print(new_note)"
   ]
  },
  {
   "cell_type": "code",
   "execution_count": 38,
   "id": "c08a5d4b",
   "metadata": {},
   "outputs": [
    {
     "name": "stdout",
     "output_type": "stream",
     "text": [
      "노트에 적힌 내용입니다. : 파이썬 강의\n"
     ]
    }
   ],
   "source": [
    "new_note2 = Note(\"파이썬 강의\")\n",
    "print(new_note2)"
   ]
  },
  {
   "cell_type": "code",
   "execution_count": 39,
   "id": "75253881",
   "metadata": {},
   "outputs": [
    {
     "data": {
      "text/plain": [
       "<__main__.Note at 0x20068763048>"
      ]
     },
     "execution_count": 39,
     "metadata": {},
     "output_type": "execute_result"
    }
   ],
   "source": [
    "my_notebook.add_note(new_note)\n",
    "my_notebook.notes[1]"
   ]
  },
  {
   "cell_type": "code",
   "execution_count": 40,
   "id": "b7d0bff9",
   "metadata": {},
   "outputs": [
    {
     "data": {
      "text/plain": [
       "2"
      ]
     },
     "execution_count": 40,
     "metadata": {},
     "output_type": "execute_result"
    }
   ],
   "source": [
    "my_notebook.page_number"
   ]
  },
  {
   "cell_type": "code",
   "execution_count": 41,
   "id": "3fb446ec",
   "metadata": {},
   "outputs": [],
   "source": [
    "my_notebook.add_note(new_note2, 100)"
   ]
  },
  {
   "cell_type": "code",
   "execution_count": 42,
   "id": "b7c4e3f9",
   "metadata": {},
   "outputs": [
    {
     "data": {
      "text/plain": [
       "3"
      ]
     },
     "execution_count": 42,
     "metadata": {},
     "output_type": "execute_result"
    }
   ],
   "source": [
    "my_notebook.page_number"
   ]
  },
  {
   "cell_type": "code",
   "execution_count": 43,
   "id": "481c4e58",
   "metadata": {
    "scrolled": true
   },
   "outputs": [
    {
     "name": "stdout",
     "output_type": "stream",
     "text": [
      "노트에 적힌 내용입니다. : 파이썬 강의\n"
     ]
    }
   ],
   "source": [
    "print(my_notebook.notes[100])"
   ]
  },
  {
   "cell_type": "code",
   "execution_count": 44,
   "id": "8fe1e6d5",
   "metadata": {},
   "outputs": [
    {
     "data": {
      "text/plain": [
       "{1: <__main__.Note at 0x20068763048>, 100: <__main__.Note at 0x20068763908>}"
      ]
     },
     "execution_count": 44,
     "metadata": {},
     "output_type": "execute_result"
    }
   ],
   "source": [
    "my_notebook.notes"
   ]
  },
  {
   "cell_type": "code",
   "execution_count": 45,
   "id": "2ae959d9",
   "metadata": {},
   "outputs": [
    {
     "data": {
      "text/plain": [
       "2"
      ]
     },
     "execution_count": 45,
     "metadata": {},
     "output_type": "execute_result"
    }
   ],
   "source": [
    "my_notebook.get_number_of_pages()"
   ]
  },
  {
   "cell_type": "markdown",
   "id": "2bacb5eb",
   "metadata": {},
   "source": [
    "## **Inheritance(상속)**\n",
    "- 부모클래스로부터 속성과 method를 물려받은 자식 클래스를 생성하는 것"
   ]
  },
  {
   "cell_type": "code",
   "execution_count": 49,
   "id": "213de1a3",
   "metadata": {},
   "outputs": [
    {
     "name": "stdout",
     "output_type": "stream",
     "text": [
      "저의 이름은 Han 입니다. 나이는 35 입니다.\n"
     ]
    }
   ],
   "source": [
    "class Person(object):\n",
    "    def __init__(self, name, age):\n",
    "        self.name = name\n",
    "        self.age = age\n",
    "        \n",
    "    def __str__(self):\n",
    "        return \"저의 이름은 {0} 입니다. 나이는 {1} 입니다.\".format(self.name, self.age)\n",
    "        \n",
    "class Korean(Person):\n",
    "    pass\n",
    "\n",
    "first_korean = Korean(\"Han\", 35)\n",
    "print(first_korean)"
   ]
  },
  {
   "cell_type": "code",
   "execution_count": 51,
   "id": "3e5b88f0",
   "metadata": {},
   "outputs": [],
   "source": [
    "class Person: # 부모 클래스 Person 선언\n",
    "    def __init__(self, name, age, gender):\n",
    "        self.name = name\n",
    "        self.age = age\n",
    "        self.gender = gender\n",
    "        \n",
    "    def about_me(self):\n",
    "        print(\"저의 이름은 \", self.name, \"이구요. 제 나이는\", str(self.age), \"살 입니다.\")\n",
    "        \n",
    "    def __str__(self):\n",
    "        return \"저의 이름은 {0} 입니다. 나이는 {1} 입니다.\".format(self.name, self.age)"
   ]
  },
  {
   "cell_type": "code",
   "execution_count": 52,
   "id": "0e3e763e",
   "metadata": {},
   "outputs": [],
   "source": [
    "class Employee(Person): # 부모 클래스 Person으로 부터 상속\n",
    "    def __init__(self, name, age, gender, salary, hire_date):\n",
    "        super().__init__(name, age, gender) # 부모 객체 사용\n",
    "        self.salary = salary\n",
    "        self.hire_date = hire_date\n",
    "        \n",
    "    def do_work(self):\n",
    "        print(\"열심히 일을 합니다.\")\n",
    "        \n",
    "    def about_me(self): # 부모 클래스 함수 재정의\n",
    "        super().about_me()\n",
    "        print(\"제 급여는\", self.salary, \"원 이구요. 제 입사일은\", self.hire_date, \"입니다.\")"
   ]
  },
  {
   "cell_type": "code",
   "execution_count": 56,
   "id": "795fd8d3",
   "metadata": {},
   "outputs": [
    {
     "name": "stdout",
     "output_type": "stream",
     "text": [
      "저의 이름은  John 이구요. 제 나이는 34 살 입니다.\n"
     ]
    }
   ],
   "source": [
    "myPerson = Person(\"John\", 34, \"Male\")\n",
    "myPerson.about_me()"
   ]
  },
  {
   "cell_type": "code",
   "execution_count": 57,
   "id": "ef884bd1",
   "metadata": {},
   "outputs": [
    {
     "name": "stdout",
     "output_type": "stream",
     "text": [
      "저의 이름은  Daeho 이구요. 제 나이는 34 살 입니다.\n",
      "제 급여는 300000 원 이구요. 제 입사일은 2012/03/01 입니다.\n"
     ]
    }
   ],
   "source": [
    "myEmployee = Employee(\"Daeho\", 34, \"Male\", 300000, \"2012/03/01\")\n",
    "myEmployee.about_me()"
   ]
  },
  {
   "cell_type": "markdown",
   "id": "23c26230",
   "metadata": {},
   "source": [
    "## **Polymorphism(다형성)**"
   ]
  },
  {
   "cell_type": "code",
   "execution_count": 58,
   "id": "3655140b",
   "metadata": {},
   "outputs": [],
   "source": [
    "class Animal:\n",
    "    def __init__(self, name):\n",
    "        self.name = name\n",
    "        \n",
    "    def talk(self):\n",
    "        raise NotImplementedError(\"Subclass must implement abstract method\")\n",
    "\n",
    "class Cat(Animal):\n",
    "    def talk(self):\n",
    "        return 'Meow!'\n",
    "    \n",
    "class Dog(Animal):\n",
    "    def talk(self):\n",
    "        return \"Woof! Woof!\""
   ]
  },
  {
   "cell_type": "code",
   "execution_count": 59,
   "id": "dc7a16aa",
   "metadata": {},
   "outputs": [
    {
     "name": "stdout",
     "output_type": "stream",
     "text": [
      "Missy: Meow!\n",
      "Mr.Mistoffelees: Meow!\n",
      "Lassie: Woof! Woof!\n"
     ]
    }
   ],
   "source": [
    "animals = [Cat('Missy'), Cat('Mr.Mistoffelees'), Dog(\"Lassie\")]\n",
    "\n",
    "for animal in animals:\n",
    "    print(animal.name + ': ' +animal.talk())"
   ]
  },
  {
   "cell_type": "markdown",
   "id": "6c667b33",
   "metadata": {},
   "source": [
    "## **Visibility(가시성)**\n",
    "- 객체의 정보를 볼 수 있는 레벨을 조절하는 것\n",
    "- 누구나 객체 안에 모든 변수를 볼 필요가 없음"
   ]
  },
  {
   "cell_type": "code",
   "execution_count": 60,
   "id": "520d51e9",
   "metadata": {},
   "outputs": [],
   "source": [
    "# Product 객체를 Inventory 객체에 추가\n",
    "# Inventory에는 오직 Product 객체만 들어감\n",
    "# Inventory에 Product가 몇 개인지 확인지 필요\n",
    "# Inventory에 Product items는 직접 접근이 불가"
   ]
  },
  {
   "cell_type": "code",
   "execution_count": 61,
   "id": "e1638384",
   "metadata": {},
   "outputs": [],
   "source": [
    "class Product(object):\n",
    "    pass"
   ]
  },
  {
   "cell_type": "code",
   "execution_count": 62,
   "id": "96bbd8e8",
   "metadata": {},
   "outputs": [],
   "source": [
    "class Inventory(object):\n",
    "    def __init__(self):\n",
    "        self.__items = [] # Private 변수로 선언 타객체가 접근 못함\n",
    "        \n",
    "    def add_new_item(self, product):\n",
    "        if type(product) == Product:\n",
    "            self.__items.append(product)\n",
    "            print(\"new item added\")\n",
    "            \n",
    "        else:\n",
    "            raise ValueError(\"Invalid Item\")\n",
    "            \n",
    "    def get_number_of_items(self):\n",
    "        return len(self.__items)"
   ]
  },
  {
   "cell_type": "code",
   "execution_count": 63,
   "id": "6c4f2eaf",
   "metadata": {},
   "outputs": [
    {
     "name": "stdout",
     "output_type": "stream",
     "text": [
      "new item added\n",
      "new item added\n"
     ]
    }
   ],
   "source": [
    "my_inventory = Inventory()\n",
    "my_inventory.add_new_item(Product())\n",
    "my_inventory.add_new_item(Product())"
   ]
  },
  {
   "cell_type": "code",
   "execution_count": 68,
   "id": "d508f0ba",
   "metadata": {},
   "outputs": [],
   "source": [
    "# ㅖProduct 객체를 Inventory 객체에 추가\n",
    "# Inventory에는 오직 Product 객체만 들어감\n",
    "# Inventory에 Product가 몇 개인지 확인이 필요\n",
    "# Inventory에 Product items 접근 허용"
   ]
  },
  {
   "cell_type": "code",
   "execution_count": 71,
   "id": "66f42db2",
   "metadata": {},
   "outputs": [],
   "source": [
    "class Inventory(object):\n",
    "    def __init__(self):\n",
    "        self.__items = []\n",
    "        \n",
    "    @property # property decorator 숨겨진 변수를 반환하게 해줌\n",
    "    def items(self):\n",
    "        return self.__items\n",
    "    \n",
    "    def add_new_item(self, product):\n",
    "        if type(product) == Product:\n",
    "            self.__items.append(product)\n",
    "            print(\"new item added\")\n",
    "            \n",
    "        else:\n",
    "            raise ValueError(\"Invalid Item\")\n",
    "            \n",
    "    def get_number_of_items(self):\n",
    "        return len(self.__items)"
   ]
  },
  {
   "cell_type": "code",
   "execution_count": 72,
   "id": "578d15c9",
   "metadata": {},
   "outputs": [
    {
     "name": "stdout",
     "output_type": "stream",
     "text": [
      "new item added\n",
      "new item added\n",
      "2\n"
     ]
    }
   ],
   "source": [
    "my_inventory = Inventory()\n",
    "my_inventory.add_new_item(Product())\n",
    "my_inventory.add_new_item(Product())\n",
    "print(my_inventory.get_number_of_items())"
   ]
  },
  {
   "cell_type": "code",
   "execution_count": 73,
   "id": "9c33f043",
   "metadata": {},
   "outputs": [
    {
     "name": "stdout",
     "output_type": "stream",
     "text": [
      "3\n"
     ]
    }
   ],
   "source": [
    "items = my_inventory.items # Property decorator로 함수를 변수처럼 호출\n",
    "items.append(Product())\n",
    "print(my_inventory.get_number_of_items())"
   ]
  },
  {
   "cell_type": "code",
   "execution_count": 74,
   "id": "d37a957c",
   "metadata": {},
   "outputs": [],
   "source": [
    "my_inventory.items.append(\"a\")"
   ]
  },
  {
   "cell_type": "code",
   "execution_count": 75,
   "id": "4939f7b4",
   "metadata": {},
   "outputs": [
    {
     "data": {
      "text/plain": [
       "[<__main__.Product at 0x200685b3cc8>,\n",
       " <__main__.Product at 0x20068598c08>,\n",
       " <__main__.Product at 0x2006863e948>,\n",
       " 'a']"
      ]
     },
     "execution_count": 75,
     "metadata": {},
     "output_type": "execute_result"
    }
   ],
   "source": [
    "my_inventory.items"
   ]
  },
  {
   "cell_type": "code",
   "execution_count": null,
   "id": "e698097f",
   "metadata": {},
   "outputs": [],
   "source": []
  }
 ],
 "metadata": {
  "kernelspec": {
   "display_name": "precourse",
   "language": "python",
   "name": "precourse"
  },
  "language_info": {
   "codemirror_mode": {
    "name": "ipython",
    "version": 3
   },
   "file_extension": ".py",
   "mimetype": "text/x-python",
   "name": "python",
   "nbconvert_exporter": "python",
   "pygments_lexer": "ipython3",
   "version": "3.8.15"
  }
 },
 "nbformat": 4,
 "nbformat_minor": 5
}
