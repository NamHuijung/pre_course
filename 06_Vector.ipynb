{
 "cells": [
  {
   "cell_type": "markdown",
   "id": "54d9f58e",
   "metadata": {},
   "source": [
    "## **벡터**\n",
    "- 벡터는 숫자를 원소로 가지는 리스트 또는 배열이다.\n",
    "- 벡터는 공간에서 한 점을 나타낸다.\n",
    "- 벡터는 원점으로부터 상대적 위치를 표현한다.\n",
    "- 벡터에 숫자를 곱해주면 길이만 변한다.\n",
    "- 1보다 크면 길이가 늘어나고, 1보다 작으면 길이가 줄어든다. 0보다 작으면 반대 방향이 된다."
   ]
  },
  {
   "cell_type": "code",
   "execution_count": 1,
   "id": "00a4cd1d",
   "metadata": {},
   "outputs": [],
   "source": [
    "import numpy as np"
   ]
  },
  {
   "cell_type": "code",
   "execution_count": 2,
   "id": "0cc7317c",
   "metadata": {},
   "outputs": [],
   "source": [
    "x = np.array([1, 7, 2])\n",
    "y = np.array([5, 2, 1])"
   ]
  },
  {
   "cell_type": "code",
   "execution_count": 3,
   "id": "6bd9a6bb",
   "metadata": {},
   "outputs": [
    {
     "data": {
      "text/plain": [
       "array([6, 9, 3])"
      ]
     },
     "execution_count": 3,
     "metadata": {},
     "output_type": "execute_result"
    }
   ],
   "source": [
    "x + y"
   ]
  },
  {
   "cell_type": "code",
   "execution_count": 4,
   "id": "7a951a10",
   "metadata": {},
   "outputs": [
    {
     "data": {
      "text/plain": [
       "array([-4,  5,  1])"
      ]
     },
     "execution_count": 4,
     "metadata": {},
     "output_type": "execute_result"
    }
   ],
   "source": [
    "x - y"
   ]
  },
  {
   "cell_type": "code",
   "execution_count": 5,
   "id": "64a58477",
   "metadata": {},
   "outputs": [
    {
     "data": {
      "text/plain": [
       "array([ 5, 14,  2])"
      ]
     },
     "execution_count": 5,
     "metadata": {},
     "output_type": "execute_result"
    }
   ],
   "source": [
    "x * y"
   ]
  },
  {
   "cell_type": "markdown",
   "id": "023416aa",
   "metadata": {},
   "source": [
    "### **벡터의 노름**\n",
    "- 원점에서부터의 거리\n",
    "- L1 노름은 각 성분의 변화량의 절대값을 모두 더한다.\n",
    "- L2 노름은 피타고라스 정리를 이용해 유클리드 거리를 계산한다.\n",
    "- L2 노름은 np.linalg.norm을 이용"
   ]
  },
  {
   "cell_type": "code",
   "execution_count": 7,
   "id": "1bfe8877",
   "metadata": {},
   "outputs": [],
   "source": [
    "def l1_norm(x):\n",
    "    x_norm = np.abs(x)\n",
    "    x_norm = np.sum(x_norm)\n",
    "    return x_norm\n",
    "\n",
    "def l2_norm(x):\n",
    "    x_norm = x*x\n",
    "    x_norm = np.sum(x_norm)\n",
    "    x_norm = np.sqrt(x_norm)\n",
    "    return x_norm"
   ]
  },
  {
   "cell_type": "markdown",
   "id": "ec72f7c0",
   "metadata": {},
   "source": [
    "### **두 벡터 사이의 거리**\n",
    "- 두 벡터 사이의 거리를 계산할 때는 벡터의 뺄셈을 이용한다.\n",
    "\n",
    "### **두 벡터 사이의 각도**\n",
    "- 제2 코사인 법칙에 의해 두 벡터 사이의 각도를 계산할 수 있다."
   ]
  },
  {
   "cell_type": "code",
   "execution_count": 8,
   "id": "53612c01",
   "metadata": {},
   "outputs": [],
   "source": [
    "def angle(x, y):\n",
    "    v = np.inner(x, y) / (l2_norm(x) * l2_norm(y))\n",
    "    theta = np.arccos(v)\n",
    "    return theta"
   ]
  },
  {
   "cell_type": "code",
   "execution_count": null,
   "id": "40134b26",
   "metadata": {},
   "outputs": [],
   "source": []
  }
 ],
 "metadata": {
  "kernelspec": {
   "display_name": "precourse",
   "language": "python",
   "name": "precourse"
  },
  "language_info": {
   "codemirror_mode": {
    "name": "ipython",
    "version": 3
   },
   "file_extension": ".py",
   "mimetype": "text/x-python",
   "name": "python",
   "nbconvert_exporter": "python",
   "pygments_lexer": "ipython3",
   "version": "3.8.15"
  }
 },
 "nbformat": 4,
 "nbformat_minor": 5
}
