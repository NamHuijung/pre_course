{
 "cells": [
  {
   "cell_type": "markdown",
   "id": "3aaa6115",
   "metadata": {},
   "source": [
    "## **미분(differentiation)**\n",
    "- 변수의 움직임에 따른 함수값의 변화를 측정하기 위한 도구로 최적화에서 제일 많이 사용하는 기법이다.\n",
    "- 미분은 함수 f의 주어진 점에서의 접선의 기울기를 구한다.\n",
    "- 한 점에서 접선의 기울기를 알면 어느 방향으로 점을 움직여야 함수값이 증가하는지/ 감소하는지 알 수 있다.\n",
    "- 미분값을 더하면 경사상승법(gradient ascent)이라 하며 함수의 극댓값의 위치를 구할 때 사용한다. 목적함수를 최대화할 때 사용한다.\n",
    "- 미분값을 빼면 경사하강법(gradient descent)이라 하며 함수의 극솟값의 위치를 구할 때 사용한다. 목적함수를 최소화할 때 사용한다.\n",
    "- 극값에서는 미분값이 0이므로 더 이상 업데이트가 안 된다. 그러므로 목적함수 최적화가 자동으로 끝난다."
   ]
  },
  {
   "cell_type": "code",
   "execution_count": 2,
   "id": "a62676a7",
   "metadata": {},
   "outputs": [
    {
     "data": {
      "text/latex": [
       "$\\displaystyle \\operatorname{Poly}{\\left( 2 x + 2, x, domain=\\mathbb{Z} \\right)}$"
      ],
      "text/plain": [
       "Poly(2*x + 2, x, domain='ZZ')"
      ]
     },
     "execution_count": 2,
     "metadata": {},
     "output_type": "execute_result"
    }
   ],
   "source": [
    "import sympy as sym\n",
    "from sympy.abc import x\n",
    "\n",
    "sym.diff(sym.poly(x**2 + 2*x +3), x)"
   ]
  },
  {
   "cell_type": "markdown",
   "id": "2a049251",
   "metadata": {},
   "source": [
    "## **경사하강법**"
   ]
  },
  {
   "cell_type": "markdown",
   "id": "2ca1a607",
   "metadata": {},
   "source": [
    "**알고리즘**<br>\n",
    "Input : gradient, init, lr, eps / Output : var<br>\n",
    "gradient : 미분을 계산하는 함수<br>\n",
    "init : 시작점 / <br>\n",
    "lr : 학습률 : 미분을 통해 업데이트하는 속도를 조절한다. / <br>\n",
    "eps : 알고리즘 종료조건<br><hr>\n",
    "<pre>\n",
    "    <code>\n",
    "        var = init\n",
    "        grad = gradient(var)\n",
    "        while(abs(grad) > eps) :\n",
    "            var = var - lr * grad \n",
    "            # 종료조건이 성립하기 전까지 미분값을 계속 업데이트한다.\n",
    "            grad = gradient(var) \n",
    "    </code>\n",
    "</pre>"
   ]
  },
  {
   "cell_type": "code",
   "execution_count": 3,
   "id": "bc8be174",
   "metadata": {},
   "outputs": [],
   "source": [
    "def func(val):\n",
    "    fun = sym.poly(x**2 + 2*x + 3)\n",
    "    return fun.subs(x, val), fun"
   ]
  },
  {
   "cell_type": "code",
   "execution_count": 4,
   "id": "1626a838",
   "metadata": {},
   "outputs": [],
   "source": [
    "def func_gradient(fun, val):\n",
    "    _, function = fun(val)\n",
    "    diff = sym.diff(function, x)\n",
    "    return diff.subs(x, val), diff"
   ]
  },
  {
   "cell_type": "code",
   "execution_count": 7,
   "id": "d20b1efa",
   "metadata": {},
   "outputs": [],
   "source": [
    "import numpy as np"
   ]
  },
  {
   "cell_type": "code",
   "execution_count": 8,
   "id": "5c13135e",
   "metadata": {},
   "outputs": [
    {
     "name": "stdout",
     "output_type": "stream",
     "text": [
      "함수 : Poly(x**2 + 2*x + 3, x, domain='ZZ'), 연산횟수 : 627, 최소점 : (-0.999995075055184, 2.00000000002426\n"
     ]
    }
   ],
   "source": [
    "def gradient_descent(fun, init_point, lr_rate=1e-2, epsilon=1e-5):\n",
    "    cnt=0\n",
    "    val = init_point\n",
    "    diff, _ = func_gradient(fun, init_point)\n",
    "    while np.abs(diff) > epsilon:\n",
    "        val = val - lr_rate*diff\n",
    "        diff, _ = func_gradient(fun, val)\n",
    "        cnt += 1\n",
    "    print('함수 : {}, 연산횟수 : {}, 최소점 : ({}, {}'.format(fun(val)[1], cnt, val, fun(val)[0]))\n",
    "    \n",
    "gradient_descent(fun=func, init_point=np.random.uniform(-2, 2))"
   ]
  },
  {
   "cell_type": "markdown",
   "id": "96db261d",
   "metadata": {},
   "source": [
    "## **변수가 벡터라면**\n",
    "- 벡터가 입력인 다변수 함수의 경우 편미분(partial differentiation)을 사용한다.\n",
    "- 각 변수 별로 편미분을 계산한 그레디언트 벡터를 이용하여 경사하강/경사상승법에 사용할 수 있다.\n",
    "- 앞서 사용한 미분값인 f'(x) 대신 벡터 ∇f를 사용하여 변수 x를 동시ㅔ 업데이터 가능하다. (∇ : nabla)"
   ]
  },
  {
   "cell_type": "code",
   "execution_count": 9,
   "id": "ef30e10b",
   "metadata": {},
   "outputs": [
    {
     "name": "stderr",
     "output_type": "stream",
     "text": [
      "C:\\Users\\Huijung\\AppData\\Local\\Temp\\ipykernel_13020\\1119509424.py:4: SymPyDeprecationWarning: \n",
      "\n",
      "Mixing Poly with non-polynomial expressions in binary\n",
      "operations is deprecated. Either explicitly convert\n",
      "the non-Poly operand to a Poly with as_poly() or\n",
      "convert the Poly to an Expr with as_expr().\n",
      "\n",
      "See https://docs.sympy.org/latest/explanation/active-deprecations.html#deprecated-poly-nonpoly-binary-operations\n",
      "for details.\n",
      "\n",
      "This has been deprecated since SymPy version 1.6. It\n",
      "will be removed in a future version of SymPy.\n",
      "\n",
      "  sym.diff(sym.poly(x**2 + 2*x*y + 3) + sym.cos(x+2*y), x)\n"
     ]
    },
    {
     "data": {
      "text/latex": [
       "$\\displaystyle 2 x + 2 y - \\sin{\\left(x + 2 y \\right)}$"
      ],
      "text/plain": [
       "2*x + 2*y - sin(x + 2*y)"
      ]
     },
     "execution_count": 9,
     "metadata": {},
     "output_type": "execute_result"
    }
   ],
   "source": [
    "import sympy as sym\n",
    "from sympy.abc import x, y\n",
    "\n",
    "sym.diff(sym.poly(x**2 + 2*x*y + 3) + sym.cos(x+2*y), x)"
   ]
  },
  {
   "cell_type": "markdown",
   "id": "1efe1a62",
   "metadata": {},
   "source": [
    "**알고리즘**<br>\n",
    "Input : gradient, init, lr, eps / Output : var<br>\n",
    "gradient : 그레디언트 벡터를 계산하는 함수<br>\n",
    "init : 시작점 / <br>\n",
    "lr : 학습률 : 미분을 통해 업데이트하는 속도를 조절한다. / <br>\n",
    "eps : 알고리즘 종료조건<br><hr>\n",
    "<pre>\n",
    "    <code>\n",
    "        var = init\n",
    "        grad = gradient(var)\n",
    "        # 벡터는 절댓값 대신 노름(norm)을 계산해서 종료조건을 설정한다.\n",
    "        while(norm(grad) > eps) :\n",
    "            var = var - lr * grad \n",
    "            # 종료조건이 성립하기 전까지 미분값을 계속 업데이트한다.\n",
    "            grad = gradient(var) \n",
    "    </code>\n",
    "</pre>"
   ]
  },
  {
   "cell_type": "code",
   "execution_count": 11,
   "id": "1f32320f",
   "metadata": {},
   "outputs": [
    {
     "name": "stdout",
     "output_type": "stream",
     "text": [
      "함수 : Poly(x**2 + 2*y**2, x, y, domain='ZZ'), 연산횟수 : 637, 최소점 : ([4.97010195e-06 1.87200096e-12], 2.47019133770504E-11)\n"
     ]
    }
   ],
   "source": [
    "# Multivariate Gradient Descent\n",
    "def eval_(fun, val):\n",
    "    val_x, val_y = val\n",
    "    fun_eval = fun.subs(x, val_x).subs(y, val_y)\n",
    "    return fun_eval\n",
    "\n",
    "def func_multi(val):\n",
    "    x_, y_ = val\n",
    "    func = sym.poly(x**2 + 2*y**2)\n",
    "    return eval_(func, [x_, y_]), func\n",
    "\n",
    "def func_gradient(fun, val):\n",
    "    x_, y_ = val\n",
    "    _, function = fun(val)\n",
    "    diff_x = sym.diff(function, x)\n",
    "    diff_y = sym.diff(function, y)\n",
    "    grad_vec = np.array([eval_(diff_x, [x_, y_]), eval_(diff_y, [x_, y_])], dtype=float)\n",
    "    return grad_vec, [diff_x, diff_y]\n",
    "\n",
    "def gradient_descent(fun, init_point, lr_rate=1e-2, epsilon=1e-5):\n",
    "    cnt = 0\n",
    "    val = init_point\n",
    "    diff, _ = func_gradient(fun, val)\n",
    "    while np.linalg.norm(diff) > epsilon:\n",
    "        val = val - lr_rate * diff\n",
    "        diff, _ = func_gradient(fun, val)\n",
    "        cnt += 1\n",
    "        \n",
    "    print('함수 : {}, 연산횟수 : {}, 최소점 : ({}, {})'.format(fun(val)[1], cnt, val, fun(val)[0]))\n",
    "    \n",
    "\n",
    "pt = [np.random.uniform(-2, 2), np.random.uniform(-2, 2)]\n",
    "gradient_descent(fun=func_multi, init_point=pt)"
   ]
  },
  {
   "cell_type": "code",
   "execution_count": null,
   "id": "b4fee9a4",
   "metadata": {},
   "outputs": [],
   "source": []
  }
 ],
 "metadata": {
  "kernelspec": {
   "display_name": "precourse",
   "language": "python",
   "name": "precourse"
  },
  "language_info": {
   "codemirror_mode": {
    "name": "ipython",
    "version": 3
   },
   "file_extension": ".py",
   "mimetype": "text/x-python",
   "name": "python",
   "nbconvert_exporter": "python",
   "pygments_lexer": "ipython3",
   "version": "3.8.15"
  }
 },
 "nbformat": 4,
 "nbformat_minor": 5
}
