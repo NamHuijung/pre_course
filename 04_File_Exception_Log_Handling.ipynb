{
 "cells": [
  {
   "cell_type": "markdown",
   "metadata": {},
   "source": [
    "## **Exception**\n",
    "1) 예상 가능한 예외\n",
    "- 발생 여부를 사전에 인지할 수 있는 예외\n",
    "- 사용자의 잘못된 입력, 파일 호출 시 파일 없음\n",
    "- 개발자가 반드시 명시적으로 정의 해야함\n",
    "2) 예상이 불가능한 예외\n",
    "- 인터프리터 과정에서 발생하는 예외, 개발자 실수\n",
    "- 리스트의 범위를 넘어가는 값 호출, 정수 0으로 나눔\n",
    "- 수행 불가시 인터프리터가 자동 호출"
   ]
  },
  {
   "cell_type": "markdown",
   "metadata": {},
   "source": [
    "### **예외 처리(Exception Handling)**\n",
    "- 예외가 발생할 경우 후속 조치 등 대처 필요\n",
    "<pre>\n",
    "<code>\n",
    "try:\n",
    "    예외 발생 가능 코드\n",
    "except <ExceptionType>:\n",
    "    예외 발생시 대응하는 코드\n",
    "else:\n",
    "    예외가 발생하지 않을 때 동작하는 코드\n",
    "finally:\n",
    "    예외 발생 여부와 상관없이 실행됨\n",
    "</code>\n",
    "</pre>"
   ]
  },
  {
   "cell_type": "code",
   "execution_count": 1,
   "metadata": {},
   "outputs": [
    {
     "name": "stdout",
     "output_type": "stream",
     "text": [
      "Not divided by 0\n",
      "10.0\n",
      "5.0\n",
      "3.3333333333333335\n",
      "2.5\n",
      "2.0\n",
      "1.6666666666666667\n",
      "1.4285714285714286\n",
      "1.25\n",
      "1.1111111111111112\n"
     ]
    }
   ],
   "source": [
    "# 0으로 숫자를 나눌 때 예외처리 하기\n",
    "for i in range(10):\n",
    "    try:\n",
    "        print(10/i)\n",
    "    except ZeroDivisionError:\n",
    "        print(\"Not divided by 0\")"
   ]
  },
  {
   "cell_type": "markdown",
   "metadata": {},
   "source": [
    "- IndexError : List의 Index 범위를 넘어갈 때\n",
    "- NameError : 존재하지 않은 변수를 호출 할 때\n",
    "- ZeroDivisionError : 0으로 숫자를 나눌 때\n",
    "- ValueError : 변환할 수 없는 문자/숫자를 변환할 때\n",
    "- FileNotFoundError : 존재하지 않는 파일을 호출할 때"
   ]
  },
  {
   "cell_type": "code",
   "execution_count": 1,
   "metadata": {},
   "outputs": [
    {
     "name": "stdout",
     "output_type": "stream",
     "text": [
      "Error\n",
      "Not divided by 0\n",
      "1 10\n",
      "2\n",
      "name 'v' is not defined\n",
      "2 5\n",
      "3\n",
      "name 'v' is not defined\n",
      "3 3\n",
      "4\n",
      "name 'v' is not defined\n",
      "4 2\n",
      "5\n",
      "name 'v' is not defined\n",
      "5 2\n",
      "list index out of range\n",
      "6 1\n",
      "list index out of range\n",
      "7 1\n",
      "list index out of range\n",
      "8 1\n",
      "list index out of range\n",
      "9 1\n",
      "list index out of range\n"
     ]
    }
   ],
   "source": [
    "a = [1, 2, 3, 4, 5]\n",
    "for i in range(10):\n",
    "    try:\n",
    "        print(i, 10//i)\n",
    "        print(a[i])\n",
    "        print(v)\n",
    "    except ZeroDivisionError:\n",
    "        print(\"Error\")\n",
    "        print(\"Not divided by 0\")\n",
    "    except IndexError as e:\n",
    "        print(e)\n",
    "    except Exception as e:\n",
    "        print(e)"
   ]
  },
  {
   "cell_type": "markdown",
   "metadata": {},
   "source": [
    "### **raise 구문**\n",
    "- 필요에 따라 강제로 Exception을 발생"
   ]
  },
  {
   "cell_type": "code",
   "execution_count": 3,
   "metadata": {},
   "outputs": [
    {
     "name": "stdout",
     "output_type": "stream",
     "text": [
      "변환할 정수 값을 입력해주세요5\n",
      "정수값으로 변환된 숫자 -> 5\n",
      "변환할 정수 값을 입력해주세요d\n"
     ]
    },
    {
     "ename": "ValueError",
     "evalue": "숫자값을 입력하지 않으셨습니다",
     "output_type": "error",
     "traceback": [
      "\u001b[1;31m---------------------------------------------------------------------------\u001b[0m",
      "\u001b[1;31mValueError\u001b[0m                                Traceback (most recent call last)",
      "Cell \u001b[1;32mIn[3], line 6\u001b[0m\n\u001b[0;32m      4\u001b[0m \u001b[38;5;28;01mfor\u001b[39;00m digit \u001b[38;5;129;01min\u001b[39;00m value:\n\u001b[0;32m      5\u001b[0m     \u001b[38;5;28;01mif\u001b[39;00m digit \u001b[38;5;129;01mnot\u001b[39;00m \u001b[38;5;129;01min\u001b[39;00m \u001b[38;5;124m\"\u001b[39m\u001b[38;5;124m0123456789\u001b[39m\u001b[38;5;124m\"\u001b[39m:\n\u001b[1;32m----> 6\u001b[0m         \u001b[38;5;28;01mraise\u001b[39;00m \u001b[38;5;167;01mValueError\u001b[39;00m(\u001b[38;5;124m\"\u001b[39m\u001b[38;5;124m숫자값을 입력하지 않으셨습니다\u001b[39m\u001b[38;5;124m\"\u001b[39m)\n\u001b[0;32m      7\u001b[0m \u001b[38;5;28mprint\u001b[39m(\u001b[38;5;124m\"\u001b[39m\u001b[38;5;124m정수값으로 변환된 숫자 ->\u001b[39m\u001b[38;5;124m\"\u001b[39m, \u001b[38;5;28mint\u001b[39m(value))\n",
      "\u001b[1;31mValueError\u001b[0m: 숫자값을 입력하지 않으셨습니다"
     ]
    }
   ],
   "source": [
    "# raise <Exception Type>(예외정보)\n",
    "while True:\n",
    "    value = input(\"변환할 정수 값을 입력해주세요\")\n",
    "    for digit in value:\n",
    "        if digit not in \"0123456789\":\n",
    "            raise ValueError(\"숫자값을 입력하지 않으셨습니다\")\n",
    "    print(\"정수값으로 변환된 숫자 ->\", int(value))"
   ]
  },
  {
   "cell_type": "markdown",
   "metadata": {},
   "source": [
    "### **assert 구문**\n",
    "- 특정 조건에 만족하지 않을 경우 예외 발생"
   ]
  },
  {
   "cell_type": "code",
   "execution_count": 4,
   "metadata": {},
   "outputs": [
    {
     "ename": "AssertionError",
     "evalue": "",
     "output_type": "error",
     "traceback": [
      "\u001b[1;31m---------------------------------------------------------------------------\u001b[0m",
      "\u001b[1;31mAssertionError\u001b[0m                            Traceback (most recent call last)",
      "Cell \u001b[1;32mIn[4], line 5\u001b[0m\n\u001b[0;32m      2\u001b[0m     \u001b[38;5;28;01massert\u001b[39;00m \u001b[38;5;28misinstance\u001b[39m(decimal_number, \u001b[38;5;28mint\u001b[39m)\n\u001b[0;32m      3\u001b[0m     \u001b[38;5;28;01mreturn\u001b[39;00m \u001b[38;5;28mbin\u001b[39m(decimal_number)\n\u001b[1;32m----> 5\u001b[0m \u001b[38;5;28mprint\u001b[39m(\u001b[43mget_binary_number\u001b[49m\u001b[43m(\u001b[49m\u001b[38;5;241;43m10.0\u001b[39;49m\u001b[43m)\u001b[49m)\n",
      "Cell \u001b[1;32mIn[4], line 2\u001b[0m, in \u001b[0;36mget_binary_number\u001b[1;34m(decimal_number)\u001b[0m\n\u001b[0;32m      1\u001b[0m \u001b[38;5;28;01mdef\u001b[39;00m \u001b[38;5;21mget_binary_number\u001b[39m(decimal_number : \u001b[38;5;28mint\u001b[39m):\n\u001b[1;32m----> 2\u001b[0m     \u001b[38;5;28;01massert\u001b[39;00m \u001b[38;5;28misinstance\u001b[39m(decimal_number, \u001b[38;5;28mint\u001b[39m)\n\u001b[0;32m      3\u001b[0m     \u001b[38;5;28;01mreturn\u001b[39;00m \u001b[38;5;28mbin\u001b[39m(decimal_number)\n",
      "\u001b[1;31mAssertionError\u001b[0m: "
     ]
    }
   ],
   "source": [
    "def get_binary_number(decimal_number : int):\n",
    "    assert isinstance(decimal_number, int)\n",
    "    return bin(decimal_number)\n",
    "\n",
    "print(get_binary_number(10.0))"
   ]
  },
  {
   "cell_type": "markdown",
   "metadata": {},
   "source": [
    "## **File Handling**\n",
    "- file system : OS에서 파일을 저장하는 트리구조 저장 체계\n",
    "- file from wiki : 컴퓨터 등의 기기에서 의미 있는 정보를 담는 논리적인 단위 모든 프로그램은 파일로 구성되어 있고, 파일을 사용한다."
   ]
  },
  {
   "cell_type": "markdown",
   "metadata": {},
   "source": [
    "**Binary 파일**\n",
    "- 컴퓨터만 이해할 수 있는 형태인 이진(법)형식으로 저장된 파일\n",
    "- 일반적으로 메모장으로 열면 내용이 깨져 보임\n",
    "- 엑셀파일, 워드 파일 등<br>\n",
    "\n",
    "**Text 파일**\n",
    "- 인간도 이해할 수 있는 형태인 문자열 형식으로 저장된 파일\n",
    "- 메모장으로 열면 내용 확인 가능\n",
    "- 메모장에 저장된 파일, HTML 파일, 파이썬 코드 파일 등"
   ]
  },
  {
   "cell_type": "markdown",
   "metadata": {},
   "source": [
    "### **Python File I/O**\n",
    "- 파이썬은 파일 처리를 위해 \"open\" 키워드를 사용함\n",
    "<pre>\n",
    "    <code>\n",
    "        f = open(\"파일이름\", \"접근 모드\")\n",
    "        f.close()\n",
    "    </code>\n",
    "</pre>\n",
    "- r : 읽기모드 - 파일을 읽기만 할 때 사용\n",
    "- w : 쓰기모드 - 파일에 내용을 쓸 때 사용\n",
    "- a : 추가모드 - 파일의 마지막에 새로운 내용을 추가 시킬 때 사용"
   ]
  },
  {
   "cell_type": "code",
   "execution_count": 5,
   "metadata": {},
   "outputs": [
    {
     "name": "stdout",
     "output_type": "stream",
     "text": [
      "I don't wanna be another him, that shit is over\n",
      "Finally, you found yourself a friend and you run him over\n",
      "Ever since the start. I saw the end around the corner\n",
      "'Cause I know you so well\n",
      "\n",
      "So predictable\n",
      "You're an animal\n",
      "I can't let you go\n",
      "You're so good at being bad, you know\n",
      "\n",
      "So predictable\n",
      "You're an animal\n",
      "I can't let you go\n",
      "You're so good at being bad (uh)\n",
      "\n",
      "My baby's bad, you know\n",
      "My baby's bad, you know\n",
      "My baby, my, my, my baby's bad, you know\n",
      "My, my baby's bad, you know\n",
      "My, my baby's bad, you know\n",
      "My baby, my, my, my baby's bad, you know\n",
      "\n",
      "You know I'm not gonna leave your side, and I can't deny it\n",
      "Tried to play it cool but I can't hide my true desire\n",
      "'Cause I can see the dirty in your eyes, my favorite liar\n",
      "And I know you so well, well, well, well\n",
      "\n",
      "So predictable\n",
      "You're an animal\n",
      "I can't let you go\n",
      "You're so good at being bad, you know\n",
      "\n",
      "So predictable\n",
      "You're an animal\n",
      "I can't let you go\n",
      "You're so good at being bad (uh)\n",
      "\n",
      "My baby's bad, you know\n",
      "My baby's bad, you know\n",
      "My baby, my, my, my baby's bad, you know\n",
      "My, my baby's bad, you know\n",
      "My, my baby's bad, you know\n",
      "My baby, my, my, my baby's bad, you know\n",
      "\n",
      "I can see the way you look at me, waiting to attack\n",
      "You are on your worst behaviour, I want it just like that\n",
      "I can see the way you look at me, waiting to attack\n",
      "You are on your worst behaviour, I want it just like that (uh)\n",
      "\n",
      "My baby's bad, you know\n",
      "My baby's bad, you know\n",
      "My baby, my, my, my baby's bad, you know\n",
      "My, my baby's bad, you know\n",
      "My, my baby's bad, you know\n",
      "My baby, my, my, my baby's bad, you know\n",
      "\n",
      "So predictable\n",
      "You're an animal\n",
      "I can't let you go\n",
      "You're so good at being bad, you know\n",
      "\n",
      "So predictable\n",
      "You're an animal\n",
      "I can't let you go\n",
      "You're so good at being bad (uh)\n"
     ]
    }
   ],
   "source": [
    "# read() txt 파일 안에 있는 내용을 문자열로 반환\n",
    "f = open(\"Bad_Christopher.txt\", \"r\")\n",
    "contents =f.read()\n",
    "print(contents)\n",
    "f.close()"
   ]
  },
  {
   "cell_type": "code",
   "execution_count": 6,
   "metadata": {},
   "outputs": [
    {
     "name": "stdout",
     "output_type": "stream",
     "text": [
      "<class 'str'> I don't wanna be another him, that shit is over\n",
      "Finally, you found yourself a friend and you run him over\n",
      "Ever since the start. I saw the end around the corner\n",
      "'Cause I know you so well\n",
      "\n",
      "So predictable\n",
      "You're an animal\n",
      "I can't let you go\n",
      "You're so good at being bad, you know\n",
      "\n",
      "So predictable\n",
      "You're an animal\n",
      "I can't let you go\n",
      "You're so good at being bad (uh)\n",
      "\n",
      "My baby's bad, you know\n",
      "My baby's bad, you know\n",
      "My baby, my, my, my baby's bad, you know\n",
      "My, my baby's bad, you know\n",
      "My, my baby's bad, you know\n",
      "My baby, my, my, my baby's bad, you know\n",
      "\n",
      "You know I'm not gonna leave your side, and I can't deny it\n",
      "Tried to play it cool but I can't hide my true desire\n",
      "'Cause I can see the dirty in your eyes, my favorite liar\n",
      "And I know you so well, well, well, well\n",
      "\n",
      "So predictable\n",
      "You're an animal\n",
      "I can't let you go\n",
      "You're so good at being bad, you know\n",
      "\n",
      "So predictable\n",
      "You're an animal\n",
      "I can't let you go\n",
      "You're so good at being bad (uh)\n",
      "\n",
      "My baby's bad, you know\n",
      "My baby's bad, you know\n",
      "My baby, my, my, my baby's bad, you know\n",
      "My, my baby's bad, you know\n",
      "My, my baby's bad, you know\n",
      "My baby, my, my, my baby's bad, you know\n",
      "\n",
      "I can see the way you look at me, waiting to attack\n",
      "You are on your worst behaviour, I want it just like that\n",
      "I can see the way you look at me, waiting to attack\n",
      "You are on your worst behaviour, I want it just like that (uh)\n",
      "\n",
      "My baby's bad, you know\n",
      "My baby's bad, you know\n",
      "My baby, my, my, my baby's bad, you know\n",
      "My, my baby's bad, you know\n",
      "My, my baby's bad, you know\n",
      "My baby, my, my, my baby's bad, you know\n",
      "\n",
      "So predictable\n",
      "You're an animal\n",
      "I can't let you go\n",
      "You're so good at being bad, you know\n",
      "\n",
      "So predictable\n",
      "You're an animal\n",
      "I can't let you go\n",
      "You're so good at being bad (uh)\n"
     ]
    }
   ],
   "source": [
    "# with 구문과 함께 사용하기\n",
    "with open(\"Bad_Christopher.txt\", \"r\") as my_file:\n",
    "    contents = my_file.read()\n",
    "    print(type(contents), contents)"
   ]
  },
  {
   "cell_type": "markdown",
   "metadata": {},
   "source": [
    "### **파이썬의 File Read**"
   ]
  },
  {
   "cell_type": "code",
   "execution_count": 8,
   "metadata": {},
   "outputs": [
    {
     "name": "stdout",
     "output_type": "stream",
     "text": [
      "<class 'list'>\n",
      "[\"I don't wanna be another him, that shit is over\\n\", 'Finally, you found yourself a friend and you run him over\\n', 'Ever since the start. I saw the end around the corner\\n', \"'Cause I know you so well\\n\", '\\n', 'So predictable\\n', \"You're an animal\\n\", \"I can't let you go\\n\", \"You're so good at being bad, you know\\n\", '\\n', 'So predictable\\n', \"You're an animal\\n\", \"I can't let you go\\n\", \"You're so good at being bad (uh)\\n\", '\\n', \"My baby's bad, you know\\n\", \"My baby's bad, you know\\n\", \"My baby, my, my, my baby's bad, you know\\n\", \"My, my baby's bad, you know\\n\", \"My, my baby's bad, you know\\n\", \"My baby, my, my, my baby's bad, you know\\n\", '\\n', \"You know I'm not gonna leave your side, and I can't deny it\\n\", \"Tried to play it cool but I can't hide my true desire\\n\", \"'Cause I can see the dirty in your eyes, my favorite liar\\n\", 'And I know you so well, well, well, well\\n', '\\n', 'So predictable\\n', \"You're an animal\\n\", \"I can't let you go\\n\", \"You're so good at being bad, you know\\n\", '\\n', 'So predictable\\n', \"You're an animal\\n\", \"I can't let you go\\n\", \"You're so good at being bad (uh)\\n\", '\\n', \"My baby's bad, you know\\n\", \"My baby's bad, you know\\n\", \"My baby, my, my, my baby's bad, you know\\n\", \"My, my baby's bad, you know\\n\", \"My, my baby's bad, you know\\n\", \"My baby, my, my, my baby's bad, you know\\n\", '\\n', 'I can see the way you look at me, waiting to attack\\n', 'You are on your worst behaviour, I want it just like that\\n', 'I can see the way you look at me, waiting to attack\\n', 'You are on your worst behaviour, I want it just like that (uh)\\n', '\\n', \"My baby's bad, you know\\n\", \"My baby's bad, you know\\n\", \"My baby, my, my, my baby's bad, you know\\n\", \"My, my baby's bad, you know\\n\", \"My, my baby's bad, you know\\n\", \"My baby, my, my, my baby's bad, you know\\n\", '\\n', 'So predictable\\n', \"You're an animal\\n\", \"I can't let you go\\n\", \"You're so good at being bad, you know\\n\", '\\n', 'So predictable\\n', \"You're an animal\\n\", \"I can't let you go\\n\", \"You're so good at being bad (uh)\"]\n"
     ]
    }
   ],
   "source": [
    "# 한 줄씩 읽어 List Type으로 반환함\n",
    "with open(\"Bad_Christopher.txt\", \"r\") as f:\n",
    "    content_list = f.readlines() # 파일 전체를 list로 반환\n",
    "    print(type(content_list)) # Type 확인\n",
    "    print(content_list) # 리스트 값 출력"
   ]
  },
  {
   "cell_type": "code",
   "execution_count": 9,
   "metadata": {},
   "outputs": [
    {
     "name": "stdout",
     "output_type": "stream",
     "text": [
      "0 === I don't wanna be another him, that shit is over\n",
      "1 === Finally, you found yourself a friend and you run him over\n",
      "2 === Ever since the start. I saw the end around the corner\n",
      "3 === 'Cause I know you so well\n",
      "4 === \n",
      "5 === So predictable\n",
      "6 === You're an animal\n",
      "7 === I can't let you go\n",
      "8 === You're so good at being bad, you know\n",
      "9 === \n",
      "10 === So predictable\n",
      "11 === You're an animal\n",
      "12 === I can't let you go\n",
      "13 === You're so good at being bad (uh)\n",
      "14 === \n",
      "15 === My baby's bad, you know\n",
      "16 === My baby's bad, you know\n",
      "17 === My baby, my, my, my baby's bad, you know\n",
      "18 === My, my baby's bad, you know\n",
      "19 === My, my baby's bad, you know\n",
      "20 === My baby, my, my, my baby's bad, you know\n",
      "21 === \n",
      "22 === You know I'm not gonna leave your side, and I can't deny it\n",
      "23 === Tried to play it cool but I can't hide my true desire\n",
      "24 === 'Cause I can see the dirty in your eyes, my favorite liar\n",
      "25 === And I know you so well, well, well, well\n",
      "26 === \n",
      "27 === So predictable\n",
      "28 === You're an animal\n",
      "29 === I can't let you go\n",
      "30 === You're so good at being bad, you know\n",
      "31 === \n",
      "32 === So predictable\n",
      "33 === You're an animal\n",
      "34 === I can't let you go\n",
      "35 === You're so good at being bad (uh)\n",
      "36 === \n",
      "37 === My baby's bad, you know\n",
      "38 === My baby's bad, you know\n",
      "39 === My baby, my, my, my baby's bad, you know\n",
      "40 === My, my baby's bad, you know\n",
      "41 === My, my baby's bad, you know\n",
      "42 === My baby, my, my, my baby's bad, you know\n",
      "43 === \n",
      "44 === I can see the way you look at me, waiting to attack\n",
      "45 === You are on your worst behaviour, I want it just like that\n",
      "46 === I can see the way you look at me, waiting to attack\n",
      "47 === You are on your worst behaviour, I want it just like that (uh)\n",
      "48 === \n",
      "49 === My baby's bad, you know\n",
      "50 === My baby's bad, you know\n",
      "51 === My baby, my, my, my baby's bad, you know\n",
      "52 === My, my baby's bad, you know\n",
      "53 === My, my baby's bad, you know\n",
      "54 === My baby, my, my, my baby's bad, you know\n",
      "55 === \n",
      "56 === So predictable\n",
      "57 === You're an animal\n",
      "58 === I can't let you go\n",
      "59 === You're so good at being bad, you know\n",
      "60 === \n",
      "61 === So predictable\n",
      "62 === You're an animal\n",
      "63 === I can't let you go\n",
      "64 === You're so good at being bad (uh)\n"
     ]
    }
   ],
   "source": [
    "# 실행 시 마다 한 줄씩 읽어 오기\n",
    "with open(\"Bad_Christopher.txt\", \"r\") as f:\n",
    "    i = 0 \n",
    "    while True:\n",
    "        line = f.readline()\n",
    "        if not line:\n",
    "            break\n",
    "        print(str(i) + \" === \" + line.replace(\"\\n\", \"\"))\n",
    "        i += 1"
   ]
  },
  {
   "cell_type": "code",
   "execution_count": 10,
   "metadata": {},
   "outputs": [
    {
     "name": "stdout",
     "output_type": "stream",
     "text": [
      "Total Number of Characters : 1711\n",
      "Total Number of Words : 305\n",
      "Total Number of Lines : 65\n"
     ]
    }
   ],
   "source": [
    "# 단어 통계 정보 산출\n",
    "with open(\"Bad_Christopher.txt\", \"r\") as f:\n",
    "    contents = f.read()\n",
    "    # 빈칸 기준으로 단어를 분리 리스트\n",
    "    word_list = contents.split(\" \")\n",
    "    #한 줄씩 분리하여 리스트\n",
    "    line_list = contents.split(\"\\n\")\n",
    "    \n",
    "print(\"Total Number of Characters :\", len(contents))\n",
    "print(\"Total Number of Words :\", len(word_list))\n",
    "print(\"Total Number of Lines :\", len(line_list))"
   ]
  },
  {
   "cell_type": "code",
   "execution_count": 15,
   "metadata": {},
   "outputs": [],
   "source": [
    "# mode는 \"w\", encoding=\"utf8\"\n",
    "f = open(\"Count_log.txt\", \"w\", encoding=\"utf8\")\n",
    "for i in range(1, 11):\n",
    "    data = \"%d번째 줄입니다.\\n\" % i\n",
    "    f.write(data)\n",
    "f.close()"
   ]
  },
  {
   "cell_type": "code",
   "execution_count": 16,
   "metadata": {},
   "outputs": [],
   "source": [
    "# mode는 \"a\" 추가모드\n",
    "with open(\"Count_log.txt\", \"a\", encoding=\"utf8\") as f:\n",
    "    for i in range(11, 21):\n",
    "            data = \"%d번째 줄입니다.\\n\" % i\n",
    "            f.write(data)"
   ]
  },
  {
   "cell_type": "markdown",
   "metadata": {},
   "source": [
    "### **파이썬의 directory 다루기**"
   ]
  },
  {
   "cell_type": "code",
   "execution_count": 17,
   "metadata": {},
   "outputs": [],
   "source": [
    "# os 모듈을 사용하여 Directory 다루기\n",
    "import os\n",
    "os.mkdir(\"log\") # \"log\" 폴더 생성"
   ]
  },
  {
   "cell_type": "code",
   "execution_count": 18,
   "metadata": {},
   "outputs": [
    {
     "name": "stdout",
     "output_type": "stream",
     "text": [
      "Already created\n"
     ]
    }
   ],
   "source": [
    "try:\n",
    "    os.mkdir(\"log\")\n",
    "except FileExistsError as e:\n",
    "    print(\"Already created\")"
   ]
  },
  {
   "cell_type": "code",
   "execution_count": 19,
   "metadata": {},
   "outputs": [],
   "source": [
    "# 디렉토리가 있는지 확인하기\n",
    "if not os.path.isdir(\"log\"):\n",
    "    os.mkdir(\"log\")"
   ]
  },
  {
   "cell_type": "code",
   "execution_count": 20,
   "metadata": {},
   "outputs": [
    {
     "data": {
      "text/plain": [
       "WindowsPath('C:/Users/Huijung/Documents/study/pre_course')"
      ]
     },
     "execution_count": 20,
     "metadata": {},
     "output_type": "execute_result"
    }
   ],
   "source": [
    "# pathlib 모듈을 사용하여 path를 객체로 다룸\n",
    "import pathlib\n",
    "\n",
    "cwd = pathlib.Path.cwd()\n",
    "cwd"
   ]
  },
  {
   "cell_type": "code",
   "execution_count": 21,
   "metadata": {},
   "outputs": [
    {
     "data": {
      "text/plain": [
       "WindowsPath('C:/Users/Huijung/Documents/study')"
      ]
     },
     "execution_count": 21,
     "metadata": {},
     "output_type": "execute_result"
    }
   ],
   "source": [
    "cwd.parent"
   ]
  },
  {
   "cell_type": "markdown",
   "metadata": {},
   "source": [
    "### **Log 파일 생성하기**\n",
    "1) 디렉토리가 있는지\n",
    "2) 파일이 있는지 확인 후"
   ]
  },
  {
   "cell_type": "code",
   "execution_count": 22,
   "metadata": {},
   "outputs": [],
   "source": [
    "import os"
   ]
  },
  {
   "cell_type": "code",
   "execution_count": 23,
   "metadata": {},
   "outputs": [],
   "source": [
    "if not os.path.isdir(\"log\"):\n",
    "    os.mkdir(\"log\")"
   ]
  },
  {
   "cell_type": "code",
   "execution_count": 24,
   "metadata": {},
   "outputs": [],
   "source": [
    "if not os.path.exists(\"log/count_log.txt\"):\n",
    "    f = open(\"log/count_log.txt\", \"w\", encoding=\"utf8\")\n",
    "    f.write(\"기록이 시작됩니다.\\n\")\n",
    "    f.close()"
   ]
  },
  {
   "cell_type": "code",
   "execution_count": 26,
   "metadata": {},
   "outputs": [],
   "source": [
    "with open(\"log/count_log.txt\", \"a\", encoding=\"utf8\") as f:\n",
    "    import random, datetime\n",
    "    for i in range(1, 11):\n",
    "        stamp = str(datetime.datetime.now())\n",
    "        value = random.random() * 1000000\n",
    "        log_line = stamp + \"/t\" + str(value) + \"값이 생성되었습니다\" + \"\\n\"\n",
    "        f.write(log_line)"
   ]
  },
  {
   "cell_type": "markdown",
   "metadata": {},
   "source": [
    "### **Pickle**\n",
    "- 파이썬의 객체를 영속화(persistence)하는 built-in 객체\n",
    "- 데이터, object 등 실행중 정보를 저장 -> 불러와서 사용\n",
    "- 저장해야하는 정보, 계산 결과(모델) 등 활용이 많음\n",
    "- pickle은 바이너리 파일"
   ]
  },
  {
   "cell_type": "code",
   "execution_count": 27,
   "metadata": {},
   "outputs": [],
   "source": [
    "import pickle\n",
    "f = open(\"list.pickle\", \"wb\")\n",
    "test = [1, 2, 3, 4, 5]\n",
    "pickle.dump(test, f)\n",
    "f.close()"
   ]
  },
  {
   "cell_type": "code",
   "execution_count": 28,
   "metadata": {},
   "outputs": [
    {
     "name": "stdout",
     "output_type": "stream",
     "text": [
      "[1, 2, 3, 4, 5]\n"
     ]
    }
   ],
   "source": [
    "f = open(\"list.pickle\", \"rb\")\n",
    "test_pickle = pickle.load(f)\n",
    "print(test_pickle)\n",
    "f.close()"
   ]
  },
  {
   "cell_type": "markdown",
   "metadata": {},
   "source": [
    "## **Log handling**"
   ]
  },
  {
   "cell_type": "markdown",
   "metadata": {},
   "source": [
    "### **로그 남기기(Logging)**\n",
    "- 프로그램이 실행되는 동안 일어나는 정보를 기록을 남기기\n",
    "- 유저의 접근, 프로그램의 Exception, 특정 함수의 사용\n",
    "- Console 화면에 출력, 파일에 남기기, DB에 남기기 등\n",
    "- 기록된 로그를 분석하여 의미있는 결과를 도출할 수 있음\n",
    "- 실행시점에서 남겨야 하는 기록, 개발시점에서 남겨야하는 기록"
   ]
  },
  {
   "cell_type": "markdown",
   "metadata": {},
   "source": [
    "**logging level**\n",
    "- 프로그램 진행 상황에 따라 다른 Level의 Log를 출력함\n",
    "- 개발 시점, 운영 시점마다 다른 Log가 남을 수 있도록 지원함\n",
    "- DEBUG > INFO > WARNING > ERROR > Critical\n",
    "- Log 관리시 가장 기본이 되는 설정 정보"
   ]
  },
  {
   "cell_type": "code",
   "execution_count": null,
   "metadata": {},
   "outputs": [],
   "source": []
  }
 ],
 "metadata": {
  "kernelspec": {
   "display_name": "precourse",
   "language": "python",
   "name": "precourse"
  },
  "language_info": {
   "codemirror_mode": {
    "name": "ipython",
    "version": 3
   },
   "file_extension": ".py",
   "mimetype": "text/x-python",
   "name": "python",
   "nbconvert_exporter": "python",
   "pygments_lexer": "ipython3",
   "version": "3.8.15"
  },
  "vscode": {
   "interpreter": {
    "hash": "eb3cdb275aa0dec3e22ca714e35157e152e47371253f1010fab91c6dcceb5671"
   }
  }
 },
 "nbformat": 4,
 "nbformat_minor": 2
}
