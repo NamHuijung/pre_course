{
 "cells": [
  {
   "cell_type": "markdown",
   "id": "1a23cd72",
   "metadata": {},
   "source": [
    "# **numpy**\n",
    "- Numerical Python\n",
    "- 파이썬의 고성능 과학 계산형 패키지\n",
    "- Matrix와 Vector와 같은 Array 연산의 사실상의 표준\n",
    "\n",
    "<특징>\n",
    "- 일반 List에 배해 빠르고 메모리 효율적\n",
    "- 반복문 없이 데이터 배열에 대한 처리를 지원함\n",
    "- 선형대수와 관련된 다양한 기능을 제공함\n",
    "- C, C++, 포트란 등의 언어와 통합 가능"
   ]
  },
  {
   "cell_type": "markdown",
   "id": "27041c4e",
   "metadata": {},
   "source": [
    "## **ndarray**\n",
    "- numpy는 np.array 함수를 활용 배열을 생성함 -> ndarray\n",
    "- numpy는 하나의 데이터 type만 배열에 넣을 수 있음"
   ]
  },
  {
   "cell_type": "code",
   "execution_count": 1,
   "id": "601bf0d3",
   "metadata": {},
   "outputs": [],
   "source": [
    "# numpy 모듈의 호출\n",
    "import numpy as np"
   ]
  },
  {
   "cell_type": "code",
   "execution_count": 2,
   "id": "cd68b401",
   "metadata": {},
   "outputs": [
    {
     "name": "stdout",
     "output_type": "stream",
     "text": [
      "[1. 4. 5. 6.]\n"
     ]
    }
   ],
   "source": [
    "# array의 생성\n",
    "test_array = np.array([1, 4, 5, 6], float)\n",
    "print(test_array)"
   ]
  },
  {
   "cell_type": "code",
   "execution_count": 3,
   "id": "52f38fc6",
   "metadata": {},
   "outputs": [
    {
     "data": {
      "text/plain": [
       "array([1., 4., 5., 8.])"
      ]
     },
     "execution_count": 3,
     "metadata": {},
     "output_type": "execute_result"
    }
   ],
   "source": [
    "test_array = np.array([\"1\", \"4\", 5.0, 8], float)\n",
    "test_array"
   ]
  },
  {
   "cell_type": "code",
   "execution_count": 4,
   "id": "64849d7b",
   "metadata": {},
   "outputs": [
    {
     "data": {
      "text/plain": [
       "numpy.ndarray"
      ]
     },
     "execution_count": 4,
     "metadata": {},
     "output_type": "execute_result"
    }
   ],
   "source": [
    "type(test_array)"
   ]
  },
  {
   "cell_type": "code",
   "execution_count": 5,
   "id": "62e200e9",
   "metadata": {},
   "outputs": [
    {
     "data": {
      "text/plain": [
       "True"
      ]
     },
     "execution_count": 5,
     "metadata": {},
     "output_type": "execute_result"
    }
   ],
   "source": [
    "a = [1, 2, 3, 4, 5]\n",
    "b = [5, 4, 3, 2, 1]\n",
    "a[0] is b[-1]"
   ]
  },
  {
   "cell_type": "code",
   "execution_count": 6,
   "id": "5199e0d4",
   "metadata": {},
   "outputs": [
    {
     "data": {
      "text/plain": [
       "False"
      ]
     },
     "execution_count": 6,
     "metadata": {},
     "output_type": "execute_result"
    }
   ],
   "source": [
    "a = np.array(a)\n",
    "b = np.array(b)\n",
    "a[0] is b[-1]"
   ]
  },
  {
   "cell_type": "code",
   "execution_count": 7,
   "id": "1c517e84",
   "metadata": {},
   "outputs": [
    {
     "data": {
      "text/plain": [
       "array([1., 3., 4., 5.])"
      ]
     },
     "execution_count": 7,
     "metadata": {},
     "output_type": "execute_result"
    }
   ],
   "source": [
    "# String Type의 데이터를 입력해도\n",
    "# Float Type으로 자동 형변환을 실시\n",
    "test_array = np.array([1, 3, 4, \"5\"], float)\n",
    "test_array"
   ]
  },
  {
   "cell_type": "code",
   "execution_count": 8,
   "id": "676baa03",
   "metadata": {},
   "outputs": [
    {
     "name": "stdout",
     "output_type": "stream",
     "text": [
      "<class 'numpy.float64'>\n"
     ]
    }
   ],
   "source": [
    "print(type(test_array[3]))"
   ]
  },
  {
   "cell_type": "code",
   "execution_count": 9,
   "id": "642b21a7",
   "metadata": {},
   "outputs": [
    {
     "data": {
      "text/plain": [
       "dtype('float64')"
      ]
     },
     "execution_count": 9,
     "metadata": {},
     "output_type": "execute_result"
    }
   ],
   "source": [
    "# Array 전체의 데이터 Type을 반환함\n",
    "test_array.dtype"
   ]
  },
  {
   "cell_type": "code",
   "execution_count": 10,
   "id": "8e6ccfd3",
   "metadata": {},
   "outputs": [
    {
     "data": {
      "text/plain": [
       "(4,)"
      ]
     },
     "execution_count": 10,
     "metadata": {},
     "output_type": "execute_result"
    }
   ],
   "source": [
    "# Array의 shape을 반환함\n",
    "test_array.shape"
   ]
  },
  {
   "cell_type": "code",
   "execution_count": 11,
   "id": "3aa7763d",
   "metadata": {},
   "outputs": [
    {
     "data": {
      "text/plain": [
       "(2, 2, 4)"
      ]
     },
     "execution_count": 11,
     "metadata": {},
     "output_type": "execute_result"
    }
   ],
   "source": [
    "matrix = [[[1, 2, 3, 4], [5, 6, 7, 8]],\n",
    "          [[9, 10, 11, 12], [13, 14, 15, 16]]]\n",
    "np.array(matrix, int).shape"
   ]
  },
  {
   "cell_type": "code",
   "execution_count": 12,
   "id": "e193927b",
   "metadata": {},
   "outputs": [
    {
     "data": {
      "text/plain": [
       "3"
      ]
     },
     "execution_count": 12,
     "metadata": {},
     "output_type": "execute_result"
    }
   ],
   "source": [
    "np.array(matrix, int).ndim # 배열의 차원"
   ]
  },
  {
   "cell_type": "code",
   "execution_count": 13,
   "id": "f292b8f3",
   "metadata": {},
   "outputs": [
    {
     "data": {
      "text/plain": [
       "16"
      ]
     },
     "execution_count": 13,
     "metadata": {},
     "output_type": "execute_result"
    }
   ],
   "source": [
    "np.array(matrix, int).size # 배열 안에 있는 item의 총 개수"
   ]
  },
  {
   "cell_type": "markdown",
   "id": "b59512f8",
   "metadata": {},
   "source": [
    "### **Array nbytes**\n",
    "- nbytes : ndarray object의 메모리 크기를 반환함"
   ]
  },
  {
   "cell_type": "code",
   "execution_count": 14,
   "id": "495bf4c6",
   "metadata": {},
   "outputs": [
    {
     "data": {
      "text/plain": [
       "24"
      ]
     },
     "execution_count": 14,
     "metadata": {},
     "output_type": "execute_result"
    }
   ],
   "source": [
    "np.array([[1, 2, 3,], [4.5, \"5\", \"6\"]], dtype=np.float32).nbytes\n",
    "# 32 bits = 4 bytes => 6 * 4 bytes"
   ]
  },
  {
   "cell_type": "code",
   "execution_count": 15,
   "id": "905d1fe9",
   "metadata": {},
   "outputs": [
    {
     "data": {
      "text/plain": [
       "6"
      ]
     },
     "execution_count": 15,
     "metadata": {},
     "output_type": "execute_result"
    }
   ],
   "source": [
    "np.array([[1, 2, 3,], [4.5, \"5\", \"6\"]], dtype=np.int8).nbytes\n",
    "# 8 bits = 1 bytes => 6 * 1 bytes"
   ]
  },
  {
   "cell_type": "code",
   "execution_count": 16,
   "id": "e870c4e9",
   "metadata": {},
   "outputs": [
    {
     "data": {
      "text/plain": [
       "48"
      ]
     },
     "execution_count": 16,
     "metadata": {},
     "output_type": "execute_result"
    }
   ],
   "source": [
    "np.array([[1, 2, 3,], [4.5, \"5\", \"6\"]], dtype=np.float64).nbytes\n",
    "# 64 bits = 8 bytes => 6 * 8 bytes"
   ]
  },
  {
   "cell_type": "markdown",
   "id": "158a2c52",
   "metadata": {},
   "source": [
    "## **handling shape**"
   ]
  },
  {
   "cell_type": "markdown",
   "id": "71825f52",
   "metadata": {},
   "source": [
    "**reshape** : Array의 shape의 크기를 변경함. element의 개수는 동일\n"
   ]
  },
  {
   "cell_type": "code",
   "execution_count": 17,
   "id": "0126de0b",
   "metadata": {},
   "outputs": [
    {
     "data": {
      "text/plain": [
       "(2, 4)"
      ]
     },
     "execution_count": 17,
     "metadata": {},
     "output_type": "execute_result"
    }
   ],
   "source": [
    "test = [[1, 2, 3, 4], [1, 2, 4, 6]]\n",
    "np.array(test).shape"
   ]
  },
  {
   "cell_type": "code",
   "execution_count": 18,
   "id": "de565b87",
   "metadata": {},
   "outputs": [
    {
     "data": {
      "text/plain": [
       "array([1, 2, 3, 4, 1, 2, 4, 6])"
      ]
     },
     "execution_count": 18,
     "metadata": {},
     "output_type": "execute_result"
    }
   ],
   "source": [
    "np.array(test).reshape(8, )"
   ]
  },
  {
   "cell_type": "code",
   "execution_count": 19,
   "id": "0975096d",
   "metadata": {},
   "outputs": [
    {
     "data": {
      "text/plain": [
       "(8,)"
      ]
     },
     "execution_count": 19,
     "metadata": {},
     "output_type": "execute_result"
    }
   ],
   "source": [
    "np.array(test).reshape(8, ).shape"
   ]
  },
  {
   "cell_type": "code",
   "execution_count": 20,
   "id": "2a80bad3",
   "metadata": {},
   "outputs": [
    {
     "data": {
      "text/plain": [
       "(2, 4)"
      ]
     },
     "execution_count": 20,
     "metadata": {},
     "output_type": "execute_result"
    }
   ],
   "source": [
    "np.array(test).reshape(2, 4).shape"
   ]
  },
  {
   "cell_type": "code",
   "execution_count": 21,
   "id": "713b64c0",
   "metadata": {},
   "outputs": [
    {
     "data": {
      "text/plain": [
       "(2, 4)"
      ]
     },
     "execution_count": 21,
     "metadata": {},
     "output_type": "execute_result"
    }
   ],
   "source": [
    "# -1 : size를 기반으로 row 개수 선정\n",
    "np.array(test).reshape(-1, 4).shape"
   ]
  },
  {
   "cell_type": "markdown",
   "id": "59d0b59e",
   "metadata": {},
   "source": [
    "**flatten** : 다차원 array를 1차원 array로 변환"
   ]
  },
  {
   "cell_type": "code",
   "execution_count": 22,
   "id": "b4eaed67",
   "metadata": {},
   "outputs": [
    {
     "data": {
      "text/plain": [
       "array([[[1, 2, 3, 4],\n",
       "        [1, 2, 5, 8]],\n",
       "\n",
       "       [[1, 2, 3, 4],\n",
       "        [1, 2, 5, 8]]])"
      ]
     },
     "execution_count": 22,
     "metadata": {},
     "output_type": "execute_result"
    }
   ],
   "source": [
    "test = [[[1, 2, 3, 4], [1, 2, 5, 8]], [[1, 2, 3, 4], [1, 2, 5, 8]]]\n",
    "test = np.array(test)\n",
    "test"
   ]
  },
  {
   "cell_type": "code",
   "execution_count": 23,
   "id": "c44f7d90",
   "metadata": {},
   "outputs": [
    {
     "data": {
      "text/plain": [
       "(2, 2, 4)"
      ]
     },
     "execution_count": 23,
     "metadata": {},
     "output_type": "execute_result"
    }
   ],
   "source": [
    "test.shape"
   ]
  },
  {
   "cell_type": "code",
   "execution_count": 24,
   "id": "10e91e35",
   "metadata": {},
   "outputs": [
    {
     "data": {
      "text/plain": [
       "array([1, 2, 3, 4, 1, 2, 5, 8, 1, 2, 3, 4, 1, 2, 5, 8])"
      ]
     },
     "execution_count": 24,
     "metadata": {},
     "output_type": "execute_result"
    }
   ],
   "source": [
    "test.flatten()"
   ]
  },
  {
   "cell_type": "code",
   "execution_count": 25,
   "id": "2f87be44",
   "metadata": {},
   "outputs": [
    {
     "data": {
      "text/plain": [
       "(16,)"
      ]
     },
     "execution_count": 25,
     "metadata": {},
     "output_type": "execute_result"
    }
   ],
   "source": [
    "test.flatten().shape"
   ]
  },
  {
   "cell_type": "markdown",
   "id": "9e7c78ee",
   "metadata": {},
   "source": [
    "## **Indexing & Sclicing**"
   ]
  },
  {
   "cell_type": "markdown",
   "id": "4f6a0774",
   "metadata": {},
   "source": [
    "**Indexing**"
   ]
  },
  {
   "cell_type": "code",
   "execution_count": 26,
   "id": "3dad5b8e",
   "metadata": {},
   "outputs": [
    {
     "data": {
      "text/plain": [
       "array([[1, 2, 3],\n",
       "       [4, 5, 6]])"
      ]
     },
     "execution_count": 26,
     "metadata": {},
     "output_type": "execute_result"
    }
   ],
   "source": [
    "test = np.array([[1, 2, 3], [4, 5, 6]], int)\n",
    "test"
   ]
  },
  {
   "cell_type": "code",
   "execution_count": 27,
   "id": "61d8adaf",
   "metadata": {},
   "outputs": [
    {
     "data": {
      "text/plain": [
       "3"
      ]
     },
     "execution_count": 27,
     "metadata": {},
     "output_type": "execute_result"
    }
   ],
   "source": [
    "test[0, 2]"
   ]
  },
  {
   "cell_type": "code",
   "execution_count": 28,
   "id": "38573ce1",
   "metadata": {},
   "outputs": [
    {
     "data": {
      "text/plain": [
       "array([[ 1,  2, 11],\n",
       "       [ 4,  5,  6]])"
      ]
     },
     "execution_count": 28,
     "metadata": {},
     "output_type": "execute_result"
    }
   ],
   "source": [
    "test[0, 2] = 11\n",
    "test"
   ]
  },
  {
   "cell_type": "markdown",
   "id": "ce35bee7",
   "metadata": {},
   "source": [
    "**Sclicing**"
   ]
  },
  {
   "cell_type": "code",
   "execution_count": 29,
   "id": "bdbd26ad",
   "metadata": {},
   "outputs": [
    {
     "data": {
      "text/plain": [
       "array([[ 1,  2,  3,  4,  5],\n",
       "       [ 6,  7,  8,  9, 10]])"
      ]
     },
     "execution_count": 29,
     "metadata": {},
     "output_type": "execute_result"
    }
   ],
   "source": [
    "test = np.array([[1, 2, 3, 4, 5], [6, 7, 8, 9, 10], [11, 12, 13, 14, 15]], int)\n",
    "test[:2:] # 전체 row의 2열 이상"
   ]
  },
  {
   "cell_type": "code",
   "execution_count": 30,
   "id": "83bd98c2",
   "metadata": {},
   "outputs": [
    {
     "data": {
      "text/plain": [
       "array([7, 8])"
      ]
     },
     "execution_count": 30,
     "metadata": {},
     "output_type": "execute_result"
    }
   ],
   "source": [
    "test[1, 1:3] # 1row의 1열~2열"
   ]
  },
  {
   "cell_type": "code",
   "execution_count": 31,
   "id": "f4ac7e08",
   "metadata": {},
   "outputs": [
    {
     "data": {
      "text/plain": [
       "array([[ 6,  7,  8,  9, 10],\n",
       "       [11, 12, 13, 14, 15]])"
      ]
     },
     "execution_count": 31,
     "metadata": {},
     "output_type": "execute_result"
    }
   ],
   "source": [
    "test[1:3] # 1row ~ 2row의 전체"
   ]
  },
  {
   "cell_type": "code",
   "execution_count": 32,
   "id": "dfdfa621",
   "metadata": {},
   "outputs": [
    {
     "data": {
      "text/plain": [
       "array([[ 1,  3,  5],\n",
       "       [ 6,  8, 10],\n",
       "       [11, 13, 15]])"
      ]
     },
     "execution_count": 32,
     "metadata": {},
     "output_type": "execute_result"
    }
   ],
   "source": [
    "test[:, ::2]"
   ]
  },
  {
   "cell_type": "markdown",
   "id": "10c49270",
   "metadata": {},
   "source": [
    "## **Creation Function**"
   ]
  },
  {
   "cell_type": "markdown",
   "id": "f5b17ac9",
   "metadata": {},
   "source": [
    "**arange** : array의 범위를 지정하여 값의 list를 생성하는 명령어"
   ]
  },
  {
   "cell_type": "code",
   "execution_count": 33,
   "id": "99b785df",
   "metadata": {},
   "outputs": [
    {
     "data": {
      "text/plain": [
       "array([ 0,  1,  2,  3,  4,  5,  6,  7,  8,  9, 10, 11, 12, 13, 14, 15, 16,\n",
       "       17, 18, 19, 20, 21, 22, 23, 24, 25, 26, 27, 28, 29])"
      ]
     },
     "execution_count": 33,
     "metadata": {},
     "output_type": "execute_result"
    }
   ],
   "source": [
    "np.arange(30) # integer로 0부터 29까지 배열 추출"
   ]
  },
  {
   "cell_type": "code",
   "execution_count": 34,
   "id": "112fb312",
   "metadata": {},
   "outputs": [
    {
     "data": {
      "text/plain": [
       "array([0. , 0.5, 1. , 1.5, 2. , 2.5, 3. , 3.5, 4. , 4.5])"
      ]
     },
     "execution_count": 34,
     "metadata": {},
     "output_type": "execute_result"
    }
   ],
   "source": [
    "# np.arange(시작, 끝, step)\n",
    "np.arange(0, 5, 0.5) # floating point도 표시가능함"
   ]
  },
  {
   "cell_type": "code",
   "execution_count": 35,
   "id": "b34374a8",
   "metadata": {},
   "outputs": [
    {
     "data": {
      "text/plain": [
       "array([[ 0,  1,  2,  3,  4,  5],\n",
       "       [ 6,  7,  8,  9, 10, 11],\n",
       "       [12, 13, 14, 15, 16, 17],\n",
       "       [18, 19, 20, 21, 22, 23],\n",
       "       [24, 25, 26, 27, 28, 29]])"
      ]
     },
     "execution_count": 35,
     "metadata": {},
     "output_type": "execute_result"
    }
   ],
   "source": [
    "np.arange(30).reshape(5, 6)"
   ]
  },
  {
   "cell_type": "markdown",
   "id": "2ea7b509",
   "metadata": {},
   "source": [
    "**zeros** : 0으로 가득찬 ndarray 생성"
   ]
  },
  {
   "cell_type": "code",
   "execution_count": 36,
   "id": "11c11678",
   "metadata": {},
   "outputs": [
    {
     "data": {
      "text/plain": [
       "array([0, 0, 0, 0, 0, 0, 0, 0, 0, 0], dtype=int8)"
      ]
     },
     "execution_count": 36,
     "metadata": {},
     "output_type": "execute_result"
    }
   ],
   "source": [
    "np.zeros(shape=(10,), dtype=np.int8)"
   ]
  },
  {
   "cell_type": "code",
   "execution_count": 37,
   "id": "fed9a599",
   "metadata": {},
   "outputs": [
    {
     "data": {
      "text/plain": [
       "array([[0., 0., 0., 0., 0.],\n",
       "       [0., 0., 0., 0., 0.]])"
      ]
     },
     "execution_count": 37,
     "metadata": {},
     "output_type": "execute_result"
    }
   ],
   "source": [
    "np.zeros((2, 5))"
   ]
  },
  {
   "cell_type": "markdown",
   "id": "e6fc2f2f",
   "metadata": {},
   "source": [
    "**ones** : 1로 가득찬 ndarray 생성"
   ]
  },
  {
   "cell_type": "code",
   "execution_count": 38,
   "id": "122e6167",
   "metadata": {},
   "outputs": [
    {
     "data": {
      "text/plain": [
       "array([1, 1, 1, 1, 1, 1, 1, 1, 1, 1], dtype=int8)"
      ]
     },
     "execution_count": 38,
     "metadata": {},
     "output_type": "execute_result"
    }
   ],
   "source": [
    "np.ones(shape=(10,), dtype=np.int8)"
   ]
  },
  {
   "cell_type": "code",
   "execution_count": 39,
   "id": "7a91ca1b",
   "metadata": {},
   "outputs": [
    {
     "data": {
      "text/plain": [
       "array([[1., 1., 1., 1., 1.],\n",
       "       [1., 1., 1., 1., 1.]])"
      ]
     },
     "execution_count": 39,
     "metadata": {},
     "output_type": "execute_result"
    }
   ],
   "source": [
    "np.ones((2, 5))"
   ]
  },
  {
   "cell_type": "markdown",
   "id": "cdc6db8f",
   "metadata": {},
   "source": [
    "**empty** : shape만 주어지고 비어있는 ndarray 생성"
   ]
  },
  {
   "cell_type": "code",
   "execution_count": 40,
   "id": "23bb7e38",
   "metadata": {},
   "outputs": [
    {
     "data": {
      "text/plain": [
       "array([1, 1, 1, 1, 1, 1, 1, 1, 1, 1], dtype=int8)"
      ]
     },
     "execution_count": 40,
     "metadata": {},
     "output_type": "execute_result"
    }
   ],
   "source": [
    "np.empty(shape=(10, ), dtype=np.int8)"
   ]
  },
  {
   "cell_type": "code",
   "execution_count": 41,
   "id": "dfb33cbb",
   "metadata": {},
   "outputs": [
    {
     "data": {
      "text/plain": [
       "array([[1., 1., 1., 1., 1.],\n",
       "       [1., 1., 1., 1., 1.]])"
      ]
     },
     "execution_count": 41,
     "metadata": {},
     "output_type": "execute_result"
    }
   ],
   "source": [
    "np.empty((2, 5))"
   ]
  },
  {
   "cell_type": "markdown",
   "id": "fa423a47",
   "metadata": {},
   "source": [
    "**somthing_like** : 기존 ndarray의 shape 크기 만큼 1, 0 또는 empty array를 반환"
   ]
  },
  {
   "cell_type": "code",
   "execution_count": 42,
   "id": "649dd848",
   "metadata": {},
   "outputs": [
    {
     "data": {
      "text/plain": [
       "array([[1, 1, 1, 1, 1, 1],\n",
       "       [1, 1, 1, 1, 1, 1],\n",
       "       [1, 1, 1, 1, 1, 1],\n",
       "       [1, 1, 1, 1, 1, 1],\n",
       "       [1, 1, 1, 1, 1, 1]])"
      ]
     },
     "execution_count": 42,
     "metadata": {},
     "output_type": "execute_result"
    }
   ],
   "source": [
    "test = np.arange(30).reshape(5, 6)\n",
    "np.ones_like(test)"
   ]
  },
  {
   "cell_type": "markdown",
   "id": "920b39e0",
   "metadata": {},
   "source": [
    "**identity** : 단위 행렬을 생성함"
   ]
  },
  {
   "cell_type": "code",
   "execution_count": 43,
   "id": "d8a81567",
   "metadata": {},
   "outputs": [
    {
     "data": {
      "text/plain": [
       "array([[1, 0, 0],\n",
       "       [0, 1, 0],\n",
       "       [0, 0, 1]], dtype=int8)"
      ]
     },
     "execution_count": 43,
     "metadata": {},
     "output_type": "execute_result"
    }
   ],
   "source": [
    "np.identity(n=3, dtype=np.int8)"
   ]
  },
  {
   "cell_type": "code",
   "execution_count": 44,
   "id": "f6b723a9",
   "metadata": {},
   "outputs": [
    {
     "data": {
      "text/plain": [
       "array([[1., 0., 0., 0., 0.],\n",
       "       [0., 1., 0., 0., 0.],\n",
       "       [0., 0., 1., 0., 0.],\n",
       "       [0., 0., 0., 1., 0.],\n",
       "       [0., 0., 0., 0., 1.]])"
      ]
     },
     "execution_count": 44,
     "metadata": {},
     "output_type": "execute_result"
    }
   ],
   "source": [
    "np.identity(5)"
   ]
  },
  {
   "cell_type": "markdown",
   "id": "6ccfa41f",
   "metadata": {},
   "source": [
    "**eye** : 대각선인 1인 행렬, k 값의 시작 index의 변경이 가능"
   ]
  },
  {
   "cell_type": "code",
   "execution_count": 45,
   "id": "1c417a16",
   "metadata": {},
   "outputs": [
    {
     "data": {
      "text/plain": [
       "array([[1., 0., 0.],\n",
       "       [0., 1., 0.],\n",
       "       [0., 0., 1.]])"
      ]
     },
     "execution_count": 45,
     "metadata": {},
     "output_type": "execute_result"
    }
   ],
   "source": [
    "np.eye(3)"
   ]
  },
  {
   "cell_type": "code",
   "execution_count": 46,
   "id": "1c1bf1c8",
   "metadata": {},
   "outputs": [
    {
     "data": {
      "text/plain": [
       "array([[1, 0, 0, 0, 0],\n",
       "       [0, 1, 0, 0, 0],\n",
       "       [0, 0, 1, 0, 0]], dtype=int8)"
      ]
     },
     "execution_count": 46,
     "metadata": {},
     "output_type": "execute_result"
    }
   ],
   "source": [
    "np.eye(N=3, M=5, dtype=np.int8)"
   ]
  },
  {
   "cell_type": "code",
   "execution_count": 47,
   "id": "354eace9",
   "metadata": {},
   "outputs": [
    {
     "data": {
      "text/plain": [
       "array([[0., 0., 1., 0., 0.],\n",
       "       [0., 0., 0., 1., 0.],\n",
       "       [0., 0., 0., 0., 1.]])"
      ]
     },
     "execution_count": 47,
     "metadata": {},
     "output_type": "execute_result"
    }
   ],
   "source": [
    "np.eye(3, 5, k=2)"
   ]
  },
  {
   "cell_type": "markdown",
   "id": "45331896",
   "metadata": {},
   "source": [
    "**diag** : 대각 행렬의 값을 추출함"
   ]
  },
  {
   "cell_type": "code",
   "execution_count": 48,
   "id": "937c4877",
   "metadata": {},
   "outputs": [
    {
     "data": {
      "text/plain": [
       "array([[0, 1, 2],\n",
       "       [3, 4, 5],\n",
       "       [6, 7, 8]])"
      ]
     },
     "execution_count": 48,
     "metadata": {},
     "output_type": "execute_result"
    }
   ],
   "source": [
    "matrix = np.arange(9).reshape(3, 3)\n",
    "matrix"
   ]
  },
  {
   "cell_type": "code",
   "execution_count": 49,
   "id": "55325653",
   "metadata": {},
   "outputs": [
    {
     "data": {
      "text/plain": [
       "array([0, 4, 8])"
      ]
     },
     "execution_count": 49,
     "metadata": {},
     "output_type": "execute_result"
    }
   ],
   "source": [
    "np.diag(matrix)"
   ]
  },
  {
   "cell_type": "code",
   "execution_count": 50,
   "id": "12b13851",
   "metadata": {},
   "outputs": [
    {
     "data": {
      "text/plain": [
       "array([1, 5])"
      ]
     },
     "execution_count": 50,
     "metadata": {},
     "output_type": "execute_result"
    }
   ],
   "source": [
    "np.diag(matrix, k=1)"
   ]
  },
  {
   "cell_type": "markdown",
   "id": "4482ea48",
   "metadata": {},
   "source": [
    "**random sampling** : 데이터 분포에 따른 sampling으로 array를 생성"
   ]
  },
  {
   "cell_type": "code",
   "execution_count": 51,
   "id": "d3f01a33",
   "metadata": {},
   "outputs": [
    {
     "data": {
      "text/plain": [
       "array([[0.96443239, 0.53066554, 0.90610607, 0.86577008, 0.39376514],\n",
       "       [0.24449994, 0.85263918, 0.45603268, 0.30143804, 0.12430709]])"
      ]
     },
     "execution_count": 51,
     "metadata": {},
     "output_type": "execute_result"
    }
   ],
   "source": [
    "# 균등분포\n",
    "np.random.uniform(0, 1, 10).reshape(2, 5)"
   ]
  },
  {
   "cell_type": "code",
   "execution_count": 52,
   "id": "3c006a1f",
   "metadata": {},
   "outputs": [
    {
     "data": {
      "text/plain": [
       "array([[-0.40033236, -0.79638212,  1.6169865 ,  0.16222242,  0.65803491],\n",
       "       [ 1.71604685,  1.79880185, -0.78056647,  0.35895545, -1.35332668]])"
      ]
     },
     "execution_count": 52,
     "metadata": {},
     "output_type": "execute_result"
    }
   ],
   "source": [
    "# 정규분포\n",
    "np.random.normal(0, 1, 10).reshape(2, 5)"
   ]
  },
  {
   "cell_type": "code",
   "execution_count": 53,
   "id": "6e46c640",
   "metadata": {},
   "outputs": [
    {
     "data": {
      "text/plain": [
       "array([ 6.14724984,  3.54444089,  0.69367122,  0.68644801,  0.05462727,\n",
       "        1.25084269,  1.82727409,  1.28491574,  3.60865554,  0.90172994,\n",
       "        1.86223734,  0.89724156,  4.68010205,  0.62401369,  1.18024499,\n",
       "        0.74970493, 10.38161192,  0.18220515,  5.16224467,  3.03490429,\n",
       "        1.13754247,  2.67273648,  0.56523631,  0.10629446,  0.62455054,\n",
       "        2.50947087,  3.99875934,  0.52219981,  1.72102547,  0.70769213,\n",
       "        4.32521657,  0.41050422,  0.21436429,  1.80339268,  1.28318463,\n",
       "        0.07268585,  1.51356222,  3.46475456,  2.21520138,  3.67189331,\n",
       "        1.02332857,  0.81583755,  0.41911886,  2.47671718,  0.21472756,\n",
       "        1.17515988,  0.41510097,  2.30913463,  3.26598315,  2.25829087,\n",
       "        1.7388958 ,  4.77894977,  1.94815996,  0.39054543,  2.70066297,\n",
       "        0.26311371,  0.21812248,  1.58992469,  1.8885578 ,  0.06430553,\n",
       "        4.18039699,  0.07282392,  5.49476198,  3.36678925,  0.19968725,\n",
       "        4.30073317,  2.87344496,  2.52144276,  0.9121396 ,  0.39195239,\n",
       "        0.53247227,  0.26596259,  1.90894802,  1.30429661,  4.2927743 ,\n",
       "        0.75911205,  0.22557405,  0.33171998,  3.80067066,  2.45105287,\n",
       "        0.13149607,  0.65829992,  2.27194702,  0.24963582,  0.58996705,\n",
       "        1.5173525 ,  0.10777196,  2.78149544,  0.63842384,  4.20445891,\n",
       "        1.34293443,  0.49159917,  0.44099824,  2.35011703,  0.0997845 ,\n",
       "        2.33440148,  5.54892052,  1.80385177,  5.50343421,  0.50312447])"
      ]
     },
     "execution_count": 53,
     "metadata": {},
     "output_type": "execute_result"
    }
   ],
   "source": [
    "np.random.exponential(scale=2, size=100)"
   ]
  },
  {
   "cell_type": "markdown",
   "id": "4b48a953",
   "metadata": {},
   "source": [
    "**sum** : ndarray의 element들 간의 합을 구함"
   ]
  },
  {
   "cell_type": "code",
   "execution_count": 54,
   "id": "6a64a678",
   "metadata": {},
   "outputs": [
    {
     "name": "stderr",
     "output_type": "stream",
     "text": [
      "C:\\Users\\Huijung\\AppData\\Local\\Temp\\ipykernel_10176\\3750531571.py:2: DeprecationWarning: `np.float` is a deprecated alias for the builtin `float`. To silence this warning, use `float` by itself. Doing this will not modify any behavior and is safe. If you specifically wanted the numpy scalar type, use `np.float64` here.\n",
      "Deprecated in NumPy 1.20; for more details and guidance: https://numpy.org/devdocs/release/1.20.0-notes.html#deprecations\n",
      "  test.sum(dtype=np.float)\n"
     ]
    },
    {
     "data": {
      "text/plain": [
       "55.0"
      ]
     },
     "execution_count": 54,
     "metadata": {},
     "output_type": "execute_result"
    }
   ],
   "source": [
    "test = np.arange(1, 11)\n",
    "test.sum(dtype=np.float)"
   ]
  },
  {
   "cell_type": "markdown",
   "id": "dc2936e4",
   "metadata": {},
   "source": [
    "**aixs** : 모든 operation function을 실행할 때 기준이 되는 dimension 축"
   ]
  },
  {
   "cell_type": "code",
   "execution_count": 55,
   "id": "1ea187a1",
   "metadata": {},
   "outputs": [
    {
     "data": {
      "text/plain": [
       "array([[ 1,  2,  3,  4],\n",
       "       [ 5,  6,  7,  8],\n",
       "       [ 9, 10, 11, 12]])"
      ]
     },
     "execution_count": 55,
     "metadata": {},
     "output_type": "execute_result"
    }
   ],
   "source": [
    "test = np.arange(1, 13).reshape(3, 4)\n",
    "test"
   ]
  },
  {
   "cell_type": "code",
   "execution_count": 56,
   "id": "02ef0d82",
   "metadata": {},
   "outputs": [
    {
     "data": {
      "text/plain": [
       "(array([10, 26, 42]), array([15, 18, 21, 24]))"
      ]
     },
     "execution_count": 56,
     "metadata": {},
     "output_type": "execute_result"
    }
   ],
   "source": [
    "test.sum(axis=1), test.sum(axis=0)"
   ]
  },
  {
   "cell_type": "markdown",
   "id": "8f7d2d37",
   "metadata": {},
   "source": [
    "**concatenate** : numpy array를 합치는 함수"
   ]
  },
  {
   "cell_type": "code",
   "execution_count": 57,
   "id": "57a7523a",
   "metadata": {},
   "outputs": [
    {
     "data": {
      "text/plain": [
       "array([[1, 2, 3],\n",
       "       [2, 3, 4]])"
      ]
     },
     "execution_count": 57,
     "metadata": {},
     "output_type": "execute_result"
    }
   ],
   "source": [
    "a = np.array([1, 2, 3])\n",
    "b = np.array([2, 3, 4])\n",
    "np.vstack((a, b))"
   ]
  },
  {
   "cell_type": "code",
   "execution_count": 58,
   "id": "8a483025",
   "metadata": {},
   "outputs": [
    {
     "data": {
      "text/plain": [
       "array([1, 2, 3, 2, 3, 4])"
      ]
     },
     "execution_count": 58,
     "metadata": {},
     "output_type": "execute_result"
    }
   ],
   "source": [
    "np.hstack((a, b))"
   ]
  },
  {
   "cell_type": "markdown",
   "id": "5d583578",
   "metadata": {},
   "source": [
    "## **Array Operations**"
   ]
  },
  {
   "cell_type": "markdown",
   "id": "9e285ec0",
   "metadata": {},
   "source": [
    "**element-wise operations** : Array간 shape이 같을 때 일어나는 연산"
   ]
  },
  {
   "cell_type": "code",
   "execution_count": 59,
   "id": "a6fcd7a3",
   "metadata": {},
   "outputs": [
    {
     "data": {
      "text/plain": [
       "array([[ 1,  2,  3,  4,  5],\n",
       "       [ 6,  7,  8,  9, 10]])"
      ]
     },
     "execution_count": 59,
     "metadata": {},
     "output_type": "execute_result"
    }
   ],
   "source": [
    "a = np.arange(1, 11).reshape(2, 5)\n",
    "a"
   ]
  },
  {
   "cell_type": "code",
   "execution_count": 60,
   "id": "6675d32c",
   "metadata": {},
   "outputs": [
    {
     "data": {
      "text/plain": [
       "array([[ 2,  4,  6,  8, 10],\n",
       "       [12, 14, 16, 18, 20]])"
      ]
     },
     "execution_count": 60,
     "metadata": {},
     "output_type": "execute_result"
    }
   ],
   "source": [
    "a + a"
   ]
  },
  {
   "cell_type": "code",
   "execution_count": 61,
   "id": "6e8d7272",
   "metadata": {},
   "outputs": [
    {
     "data": {
      "text/plain": [
       "array([[0, 0, 0, 0, 0],\n",
       "       [0, 0, 0, 0, 0]])"
      ]
     },
     "execution_count": 61,
     "metadata": {},
     "output_type": "execute_result"
    }
   ],
   "source": [
    "a - a"
   ]
  },
  {
   "cell_type": "code",
   "execution_count": 62,
   "id": "5f448906",
   "metadata": {},
   "outputs": [
    {
     "data": {
      "text/plain": [
       "array([[  1,   4,   9,  16,  25],\n",
       "       [ 36,  49,  64,  81, 100]])"
      ]
     },
     "execution_count": 62,
     "metadata": {},
     "output_type": "execute_result"
    }
   ],
   "source": [
    "a * a # 요소들 간의 같은 위치에 있는 값들끼리 연산"
   ]
  },
  {
   "cell_type": "markdown",
   "id": "64ecee3c",
   "metadata": {},
   "source": [
    "**dot product**"
   ]
  },
  {
   "cell_type": "code",
   "execution_count": 63,
   "id": "95a325ae",
   "metadata": {},
   "outputs": [
    {
     "data": {
      "text/plain": [
       "array([[ 58,  64],\n",
       "       [139, 154]])"
      ]
     },
     "execution_count": 63,
     "metadata": {},
     "output_type": "execute_result"
    }
   ],
   "source": [
    "test_a = np.arange(1, 7).reshape(2, 3)\n",
    "test_b = np.arange(7, 13).reshape(3, 2)\n",
    "test_a.dot(test_b)"
   ]
  },
  {
   "cell_type": "markdown",
   "id": "7e3d0824",
   "metadata": {},
   "source": [
    "**transpose**"
   ]
  },
  {
   "cell_type": "code",
   "execution_count": 64,
   "id": "38925108",
   "metadata": {},
   "outputs": [
    {
     "data": {
      "text/plain": [
       "array([[1, 2, 3],\n",
       "       [4, 5, 6]])"
      ]
     },
     "execution_count": 64,
     "metadata": {},
     "output_type": "execute_result"
    }
   ],
   "source": [
    "test_a"
   ]
  },
  {
   "cell_type": "code",
   "execution_count": 65,
   "id": "7d637544",
   "metadata": {
    "scrolled": true
   },
   "outputs": [
    {
     "data": {
      "text/plain": [
       "array([[1, 4],\n",
       "       [2, 5],\n",
       "       [3, 6]])"
      ]
     },
     "execution_count": 65,
     "metadata": {},
     "output_type": "execute_result"
    }
   ],
   "source": [
    "test_a.transpose()"
   ]
  },
  {
   "cell_type": "code",
   "execution_count": 66,
   "id": "756371ae",
   "metadata": {},
   "outputs": [
    {
     "data": {
      "text/plain": [
       "array([[1, 4],\n",
       "       [2, 5],\n",
       "       [3, 6]])"
      ]
     },
     "execution_count": 66,
     "metadata": {},
     "output_type": "execute_result"
    }
   ],
   "source": [
    "test_a.T"
   ]
  },
  {
   "cell_type": "markdown",
   "id": "5ea27500",
   "metadata": {},
   "source": [
    "**broadcasting** : shape이 다른 배열 간 연산을 지원하는 기능"
   ]
  },
  {
   "cell_type": "code",
   "execution_count": 67,
   "id": "581341a6",
   "metadata": {},
   "outputs": [
    {
     "data": {
      "text/plain": [
       "array([[1, 2, 3],\n",
       "       [4, 5, 6]])"
      ]
     },
     "execution_count": 67,
     "metadata": {},
     "output_type": "execute_result"
    }
   ],
   "source": [
    "scalar=3\n",
    "test_a"
   ]
  },
  {
   "cell_type": "code",
   "execution_count": 68,
   "id": "30571e96",
   "metadata": {},
   "outputs": [
    {
     "data": {
      "text/plain": [
       "array([[4, 5, 6],\n",
       "       [7, 8, 9]])"
      ]
     },
     "execution_count": 68,
     "metadata": {},
     "output_type": "execute_result"
    }
   ],
   "source": [
    "test_a + scalar"
   ]
  },
  {
   "cell_type": "code",
   "execution_count": 69,
   "id": "52f77461",
   "metadata": {},
   "outputs": [
    {
     "data": {
      "text/plain": [
       "array([[-2, -1,  0],\n",
       "       [ 1,  2,  3]])"
      ]
     },
     "execution_count": 69,
     "metadata": {},
     "output_type": "execute_result"
    }
   ],
   "source": [
    "test_a - scalar"
   ]
  },
  {
   "cell_type": "code",
   "execution_count": 70,
   "id": "bce5164f",
   "metadata": {},
   "outputs": [
    {
     "data": {
      "text/plain": [
       "array([[ 3,  6,  9],\n",
       "       [12, 15, 18]])"
      ]
     },
     "execution_count": 70,
     "metadata": {},
     "output_type": "execute_result"
    }
   ],
   "source": [
    "test_a * scalar"
   ]
  },
  {
   "cell_type": "code",
   "execution_count": 71,
   "id": "e4de950d",
   "metadata": {},
   "outputs": [
    {
     "data": {
      "text/plain": [
       "array([[0.33333333, 0.66666667, 1.        ],\n",
       "       [1.33333333, 1.66666667, 2.        ]])"
      ]
     },
     "execution_count": 71,
     "metadata": {},
     "output_type": "execute_result"
    }
   ],
   "source": [
    "test_a / scalar"
   ]
  },
  {
   "cell_type": "markdown",
   "id": "53ed72f4",
   "metadata": {},
   "source": [
    "## **Comparisons**"
   ]
  },
  {
   "cell_type": "markdown",
   "id": "6f681c58",
   "metadata": {},
   "source": [
    "**All & Any** : array의 데이터 전부(and) 또는 일부(or)가 조건에 만족 여부 반환"
   ]
  },
  {
   "cell_type": "code",
   "execution_count": 72,
   "id": "e859ad2a",
   "metadata": {},
   "outputs": [
    {
     "data": {
      "text/plain": [
       "array([0, 1, 2, 3, 4, 5, 6, 7, 8, 9])"
      ]
     },
     "execution_count": 72,
     "metadata": {},
     "output_type": "execute_result"
    }
   ],
   "source": [
    "a = np.arange(10)\n",
    "a"
   ]
  },
  {
   "cell_type": "code",
   "execution_count": 73,
   "id": "06a8dcee",
   "metadata": {},
   "outputs": [
    {
     "data": {
      "text/plain": [
       "(True, False)"
      ]
     },
     "execution_count": 73,
     "metadata": {},
     "output_type": "execute_result"
    }
   ],
   "source": [
    "# any : 하나라도 조건에 만족한다면 true\n",
    "np.any(a>5), np.any(a<0) "
   ]
  },
  {
   "cell_type": "code",
   "execution_count": 74,
   "id": "5c011b5b",
   "metadata": {},
   "outputs": [
    {
     "data": {
      "text/plain": [
       "(False, False)"
      ]
     },
     "execution_count": 74,
     "metadata": {},
     "output_type": "execute_result"
    }
   ],
   "source": [
    "# all : 모두가 조건에 만족한다면 true\n",
    "np.all(a>5), np.all(a<0)"
   ]
  },
  {
   "cell_type": "code",
   "execution_count": 75,
   "id": "fcc7a13d",
   "metadata": {},
   "outputs": [
    {
     "data": {
      "text/plain": [
       "array([False,  True, False])"
      ]
     },
     "execution_count": 75,
     "metadata": {},
     "output_type": "execute_result"
    }
   ],
   "source": [
    "test_a = np.array([1, 3, 0], float)\n",
    "test_b = np.array([5, 2, 1], float)\n",
    "\n",
    "test_a > test_b"
   ]
  },
  {
   "cell_type": "code",
   "execution_count": 76,
   "id": "548f345d",
   "metadata": {},
   "outputs": [
    {
     "data": {
      "text/plain": [
       "True"
      ]
     },
     "execution_count": 76,
     "metadata": {},
     "output_type": "execute_result"
    }
   ],
   "source": [
    "(test_a > test_b).any()"
   ]
  },
  {
   "cell_type": "code",
   "execution_count": 77,
   "id": "ef600b88",
   "metadata": {},
   "outputs": [
    {
     "data": {
      "text/plain": [
       "array([ True, False, False])"
      ]
     },
     "execution_count": 77,
     "metadata": {},
     "output_type": "execute_result"
    }
   ],
   "source": [
    "# and 조건의 condition\n",
    "np.logical_and(test_a>0, test_a<3)"
   ]
  },
  {
   "cell_type": "code",
   "execution_count": 78,
   "id": "20cf3a1e",
   "metadata": {},
   "outputs": [
    {
     "data": {
      "text/plain": [
       "array([False,  True,  True])"
      ]
     },
     "execution_count": 78,
     "metadata": {},
     "output_type": "execute_result"
    }
   ],
   "source": [
    "# not 조건의 condition\n",
    "a = np.logical_and(test_a>0, test_a<3)\n",
    "np.logical_not(a)"
   ]
  },
  {
   "cell_type": "code",
   "execution_count": 79,
   "id": "3b4788dd",
   "metadata": {},
   "outputs": [
    {
     "data": {
      "text/plain": [
       "array([ True,  True, False])"
      ]
     },
     "execution_count": 79,
     "metadata": {},
     "output_type": "execute_result"
    }
   ],
   "source": [
    "# or 조건의 condition\n",
    "c = np.array([False, True, False], bool)\n",
    "np.logical_or(a, c)"
   ]
  },
  {
   "cell_type": "markdown",
   "id": "0cce8a1c",
   "metadata": {},
   "source": [
    "**np.where**"
   ]
  },
  {
   "cell_type": "code",
   "execution_count": 80,
   "id": "94b35ffd",
   "metadata": {},
   "outputs": [
    {
     "data": {
      "text/plain": [
       "array([3, 3, 2])"
      ]
     },
     "execution_count": 80,
     "metadata": {},
     "output_type": "execute_result"
    }
   ],
   "source": [
    "np.where(test_a>0, 3, 2) # where(condition, True, False)\n",
    "# True이면 3, False이면 2가 출력"
   ]
  },
  {
   "cell_type": "code",
   "execution_count": 81,
   "id": "e5ca44ee",
   "metadata": {},
   "outputs": [
    {
     "data": {
      "text/plain": [
       "(array([6, 7, 8, 9], dtype=int64),)"
      ]
     },
     "execution_count": 81,
     "metadata": {},
     "output_type": "execute_result"
    }
   ],
   "source": [
    "a = np.arange(10)\n",
    "np.where(a>5) # Index 값 반환"
   ]
  },
  {
   "cell_type": "code",
   "execution_count": 82,
   "id": "5905d54c",
   "metadata": {},
   "outputs": [
    {
     "data": {
      "text/plain": [
       "array([False,  True, False])"
      ]
     },
     "execution_count": 82,
     "metadata": {},
     "output_type": "execute_result"
    }
   ],
   "source": [
    "a = np.array([1, np.NaN, np.Inf], float)\n",
    "np.isnan(a)"
   ]
  },
  {
   "cell_type": "code",
   "execution_count": 83,
   "id": "e4135782",
   "metadata": {},
   "outputs": [
    {
     "data": {
      "text/plain": [
       "array([ True, False, False])"
      ]
     },
     "execution_count": 83,
     "metadata": {},
     "output_type": "execute_result"
    }
   ],
   "source": [
    "np.isfinite(a)"
   ]
  },
  {
   "cell_type": "markdown",
   "id": "7acb832d",
   "metadata": {},
   "source": [
    "**argmax & argmin** : array 내 최댓값 또는 최솟값의 index를 반환함"
   ]
  },
  {
   "cell_type": "code",
   "execution_count": 84,
   "id": "32c2cac8",
   "metadata": {},
   "outputs": [
    {
     "data": {
      "text/plain": [
       "(9, 0)"
      ]
     },
     "execution_count": 84,
     "metadata": {},
     "output_type": "execute_result"
    }
   ],
   "source": [
    "a = np.arange(10, dtype=np.int8)\n",
    "np.argmax(a), np.argmin(a)"
   ]
  },
  {
   "cell_type": "code",
   "execution_count": 85,
   "id": "8a390a53",
   "metadata": {},
   "outputs": [
    {
     "data": {
      "text/plain": [
       "(array([3, 1, 1], dtype=int64), array([0, 0, 0, 0], dtype=int64))"
      ]
     },
     "execution_count": 85,
     "metadata": {},
     "output_type": "execute_result"
    }
   ],
   "source": [
    "# axis 기반의 반환\n",
    "a = np.array([[1, 2, 3, 7], [9, 88, 6, 45], [9, 10, 5, 9]])\n",
    "np.argmax(a, axis=1), np.argmin(a, axis=0)"
   ]
  },
  {
   "cell_type": "markdown",
   "id": "55dd639d",
   "metadata": {},
   "source": [
    "## **Boolean & Fancy Index**"
   ]
  },
  {
   "cell_type": "markdown",
   "id": "9f3d64b1",
   "metadata": {},
   "source": [
    "**boolean index** : 특정 조건에 따른 값을 배열 형태로 추출"
   ]
  },
  {
   "cell_type": "code",
   "execution_count": 86,
   "id": "e59d96f2",
   "metadata": {},
   "outputs": [
    {
     "data": {
      "text/plain": [
       "array([False,  True, False, False, False,  True,  True,  True])"
      ]
     },
     "execution_count": 86,
     "metadata": {},
     "output_type": "execute_result"
    }
   ],
   "source": [
    "test_array = np.array([1, 4, 0, 2, 3, 8, 9, 7], float)\n",
    "test_array > 3"
   ]
  },
  {
   "cell_type": "code",
   "execution_count": 87,
   "id": "a04bf6da",
   "metadata": {},
   "outputs": [
    {
     "data": {
      "text/plain": [
       "array([4., 8., 9., 7.])"
      ]
     },
     "execution_count": 87,
     "metadata": {},
     "output_type": "execute_result"
    }
   ],
   "source": [
    "# 조건이 True인 index의 element만 추출\n",
    "test_array[test_array>3]"
   ]
  },
  {
   "cell_type": "code",
   "execution_count": 88,
   "id": "c43d53ba",
   "metadata": {},
   "outputs": [
    {
     "data": {
      "text/plain": [
       "array([1., 0., 2.])"
      ]
     },
     "execution_count": 88,
     "metadata": {},
     "output_type": "execute_result"
    }
   ],
   "source": [
    "condition = test_array<3\n",
    "test_array[condition]"
   ]
  },
  {
   "cell_type": "markdown",
   "id": "0aa512b0",
   "metadata": {},
   "source": [
    "**fancy index** : numpy는 array를 index value로 사용해서 값 추출"
   ]
  },
  {
   "cell_type": "code",
   "execution_count": 89,
   "id": "be3e67bb",
   "metadata": {},
   "outputs": [
    {
     "data": {
      "text/plain": [
       "array([2., 2., 4., 8., 6., 4.])"
      ]
     },
     "execution_count": 89,
     "metadata": {},
     "output_type": "execute_result"
    }
   ],
   "source": [
    "a = np.array([2, 4, 6, 8], float)\n",
    "b = np.array([0, 0, 1, 3, 2, 1], int)\n",
    "a[b] # bracket index, b 배열의 값을 index로 하여 a의 값들을 추출함"
   ]
  },
  {
   "cell_type": "code",
   "execution_count": 90,
   "id": "210909ed",
   "metadata": {},
   "outputs": [
    {
     "data": {
      "text/plain": [
       "array([2., 2., 4., 8., 6., 4.])"
      ]
     },
     "execution_count": 90,
     "metadata": {},
     "output_type": "execute_result"
    }
   ],
   "source": [
    "# take() : bracket index와 같은 효과\n",
    "a.take(b)"
   ]
  },
  {
   "cell_type": "markdown",
   "id": "262298d0",
   "metadata": {},
   "source": [
    "## **Numpy data I/O**"
   ]
  },
  {
   "cell_type": "markdown",
   "id": "2fcdbfc8",
   "metadata": {},
   "source": [
    "**loadtxt & savetxt** : text type의 데이터를 읽고, 저장하는 기능"
   ]
  },
  {
   "cell_type": "markdown",
   "id": "e02191ec",
   "metadata": {},
   "source": [
    "- 파일 호출 : np.loadtxt(\"파일 이름\")\n",
    "- Int type 변환 : a.astype(int)\n",
    "- .csv로 저장 : np.savetxt(\"파일이름\", 저장_array, delimiter=\",\")"
   ]
  }
 ],
 "metadata": {
  "kernelspec": {
   "display_name": "precourse",
   "language": "python",
   "name": "precourse"
  },
  "language_info": {
   "codemirror_mode": {
    "name": "ipython",
    "version": 3
   },
   "file_extension": ".py",
   "mimetype": "text/x-python",
   "name": "python",
   "nbconvert_exporter": "python",
   "pygments_lexer": "ipython3",
   "version": "3.8.15"
  }
 },
 "nbformat": 4,
 "nbformat_minor": 5
}
