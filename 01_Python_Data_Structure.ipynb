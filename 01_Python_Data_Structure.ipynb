{
 "cells": [
  {
   "cell_type": "markdown",
   "id": "e0d39ae3",
   "metadata": {},
   "source": [
    "## **stack**"
   ]
  },
  {
   "cell_type": "code",
   "execution_count": 1,
   "id": "a3717d50",
   "metadata": {},
   "outputs": [
    {
     "data": {
      "text/plain": [
       "[1, 2, 3, 4, 5]"
      ]
     },
     "execution_count": 1,
     "metadata": {},
     "output_type": "execute_result"
    }
   ],
   "source": [
    "a = [1, 2, 3, 4, 5]\n",
    "a"
   ]
  },
  {
   "cell_type": "code",
   "execution_count": 2,
   "id": "555e6a37",
   "metadata": {},
   "outputs": [
    {
     "data": {
      "text/plain": [
       "[1, 2, 3, 4, 5, 10]"
      ]
     },
     "execution_count": 2,
     "metadata": {},
     "output_type": "execute_result"
    }
   ],
   "source": [
    "a.append(10)\n",
    "a"
   ]
  },
  {
   "cell_type": "code",
   "execution_count": 3,
   "id": "2ec46f7f",
   "metadata": {},
   "outputs": [
    {
     "data": {
      "text/plain": [
       "[1, 2, 3, 4, 5, 10, 20]"
      ]
     },
     "execution_count": 3,
     "metadata": {},
     "output_type": "execute_result"
    }
   ],
   "source": [
    "a.append(20)\n",
    "a"
   ]
  },
  {
   "cell_type": "code",
   "execution_count": 4,
   "id": "965343d8",
   "metadata": {},
   "outputs": [
    {
     "data": {
      "text/plain": [
       "20"
      ]
     },
     "execution_count": 4,
     "metadata": {},
     "output_type": "execute_result"
    }
   ],
   "source": [
    "c = a.pop()\n",
    "c"
   ]
  },
  {
   "cell_type": "code",
   "execution_count": 5,
   "id": "ff753bd8",
   "metadata": {},
   "outputs": [
    {
     "data": {
      "text/plain": [
       "[1, 2, 3, 4, 5, 10]"
      ]
     },
     "execution_count": 5,
     "metadata": {},
     "output_type": "execute_result"
    }
   ],
   "source": [
    "a"
   ]
  },
  {
   "cell_type": "code",
   "execution_count": 6,
   "id": "e414c59d",
   "metadata": {},
   "outputs": [
    {
     "name": "stdout",
     "output_type": "stream",
     "text": [
      "Input a word : naver\n",
      "r\n",
      "['n', 'a', 'v', 'e']\n",
      "e\n",
      "['n', 'a', 'v']\n",
      "v\n",
      "['n', 'a']\n",
      "a\n",
      "['n']\n",
      "n\n",
      "[]\n"
     ]
    }
   ],
   "source": [
    "# 입력된 글자를 역순으로 출력\n",
    "word = input(\"Input a word : \")\n",
    "word_list = list(word)\n",
    "for i in range(len(word_list)):\n",
    "    print(word_list.pop())\n",
    "    print(word_list)"
   ]
  },
  {
   "cell_type": "markdown",
   "id": "a02a753e",
   "metadata": {},
   "source": [
    "## **queue**"
   ]
  },
  {
   "cell_type": "code",
   "execution_count": 1,
   "id": "f5c1c6f7",
   "metadata": {},
   "outputs": [
    {
     "data": {
      "text/plain": [
       "[1, 2, 3, 4, 5, 10, 20]"
      ]
     },
     "execution_count": 1,
     "metadata": {},
     "output_type": "execute_result"
    }
   ],
   "source": [
    "a = [1, 2, 3, 4, 5]\n",
    "a.append(10)\n",
    "a.append(20)\n",
    "a"
   ]
  },
  {
   "cell_type": "code",
   "execution_count": 2,
   "id": "e5b3b187",
   "metadata": {},
   "outputs": [
    {
     "data": {
      "text/plain": [
       "1"
      ]
     },
     "execution_count": 2,
     "metadata": {},
     "output_type": "execute_result"
    }
   ],
   "source": [
    "first = a.pop(0)\n",
    "first"
   ]
  },
  {
   "cell_type": "code",
   "execution_count": 3,
   "id": "9c440a69",
   "metadata": {},
   "outputs": [
    {
     "data": {
      "text/plain": [
       "[2, 3, 4, 5, 10, 20]"
      ]
     },
     "execution_count": 3,
     "metadata": {},
     "output_type": "execute_result"
    }
   ],
   "source": [
    "a"
   ]
  },
  {
   "cell_type": "markdown",
   "id": "bd3ba0bf",
   "metadata": {},
   "source": [
    "## **tuple**"
   ]
  },
  {
   "cell_type": "code",
   "execution_count": 6,
   "id": "6d8eb795",
   "metadata": {},
   "outputs": [
    {
     "data": {
      "text/plain": [
       "tuple"
      ]
     },
     "execution_count": 6,
     "metadata": {},
     "output_type": "execute_result"
    }
   ],
   "source": [
    "t = (1, 2, 3)\n",
    "type(t)"
   ]
  },
  {
   "cell_type": "code",
   "execution_count": 7,
   "id": "120d439f",
   "metadata": {},
   "outputs": [
    {
     "data": {
      "text/plain": [
       "((1, 2, 3, 1, 2, 3), (1, 2, 3, 1, 2, 3))"
      ]
     },
     "execution_count": 7,
     "metadata": {},
     "output_type": "execute_result"
    }
   ],
   "source": [
    "t + t, t*2"
   ]
  },
  {
   "cell_type": "code",
   "execution_count": 8,
   "id": "7f5c2a22",
   "metadata": {},
   "outputs": [
    {
     "data": {
      "text/plain": [
       "3"
      ]
     },
     "execution_count": 8,
     "metadata": {},
     "output_type": "execute_result"
    }
   ],
   "source": [
    "len(t)"
   ]
  },
  {
   "cell_type": "code",
   "execution_count": 9,
   "id": "6968ef7c",
   "metadata": {},
   "outputs": [
    {
     "data": {
      "text/plain": [
       "int"
      ]
     },
     "execution_count": 9,
     "metadata": {},
     "output_type": "execute_result"
    }
   ],
   "source": [
    "t = (1) # 일반 정수로 인식\n",
    "type(t)"
   ]
  },
  {
   "cell_type": "code",
   "execution_count": 10,
   "id": "8731c49c",
   "metadata": {},
   "outputs": [
    {
     "data": {
      "text/plain": [
       "tuple"
      ]
     },
     "execution_count": 10,
     "metadata": {},
     "output_type": "execute_result"
    }
   ],
   "source": [
    "t = (1, ) # 값이 하나면 tuple은 반드시 ','를 붙어야 함\n",
    "type(t)"
   ]
  },
  {
   "cell_type": "markdown",
   "id": "a7314d17",
   "metadata": {},
   "source": [
    "## **set**"
   ]
  },
  {
   "cell_type": "code",
   "execution_count": 11,
   "id": "9b40cc4a",
   "metadata": {},
   "outputs": [
    {
     "data": {
      "text/plain": [
       "{1, 2, 3, 4, 5}"
      ]
     },
     "execution_count": 11,
     "metadata": {},
     "output_type": "execute_result"
    }
   ],
   "source": [
    "s = set([1, 2, 3, 4, 5, 2, 3, 4])\n",
    "s"
   ]
  },
  {
   "cell_type": "code",
   "execution_count": 12,
   "id": "5a5ea42b",
   "metadata": {
    "scrolled": true
   },
   "outputs": [
    {
     "data": {
      "text/plain": [
       "{1, 2, 3, 4, 5}"
      ]
     },
     "execution_count": 12,
     "metadata": {},
     "output_type": "execute_result"
    }
   ],
   "source": [
    "s.add(1) # 한 원소 1만 추가\n",
    "s"
   ]
  },
  {
   "cell_type": "code",
   "execution_count": 15,
   "id": "0bede4ad",
   "metadata": {},
   "outputs": [
    {
     "data": {
      "text/plain": [
       "set"
      ]
     },
     "execution_count": 15,
     "metadata": {},
     "output_type": "execute_result"
    }
   ],
   "source": [
    "s = {1, 2}\n",
    "type(s)"
   ]
  },
  {
   "cell_type": "code",
   "execution_count": 16,
   "id": "b87e4090",
   "metadata": {},
   "outputs": [
    {
     "data": {
      "text/plain": [
       "{2}"
      ]
     },
     "execution_count": 16,
     "metadata": {},
     "output_type": "execute_result"
    }
   ],
   "source": [
    "s.remove(1) # 1 삭제\n",
    "s"
   ]
  },
  {
   "cell_type": "code",
   "execution_count": 17,
   "id": "0f2a2993",
   "metadata": {},
   "outputs": [
    {
     "data": {
      "text/plain": [
       "{1, 2, 4, 6, 7}"
      ]
     },
     "execution_count": 17,
     "metadata": {},
     "output_type": "execute_result"
    }
   ],
   "source": [
    "s.update([1, 4, 6, 7]) # 추가\n",
    "s"
   ]
  },
  {
   "cell_type": "code",
   "execution_count": 19,
   "id": "df6aa70a",
   "metadata": {},
   "outputs": [
    {
     "data": {
      "text/plain": [
       "{1, 2, 6, 7}"
      ]
     },
     "execution_count": 19,
     "metadata": {},
     "output_type": "execute_result"
    }
   ],
   "source": [
    "s.discard(4) # 4 삭제\n",
    "s"
   ]
  },
  {
   "cell_type": "code",
   "execution_count": 21,
   "id": "c8a5f91a",
   "metadata": {},
   "outputs": [
    {
     "data": {
      "text/plain": [
       "set()"
      ]
     },
     "execution_count": 21,
     "metadata": {},
     "output_type": "execute_result"
    }
   ],
   "source": [
    "s.clear() # 모든 원소 삭제\n",
    "s"
   ]
  },
  {
   "cell_type": "code",
   "execution_count": 22,
   "id": "c54cffce",
   "metadata": {},
   "outputs": [],
   "source": [
    "s1 = set([1, 2, 3, 4, 5])\n",
    "s2 = set([3, 4, 5, 6, 7])"
   ]
  },
  {
   "cell_type": "code",
   "execution_count": 23,
   "id": "b86d0669",
   "metadata": {},
   "outputs": [
    {
     "data": {
      "text/plain": [
       "{1, 2, 3, 4, 5, 6, 7}"
      ]
     },
     "execution_count": 23,
     "metadata": {},
     "output_type": "execute_result"
    }
   ],
   "source": [
    "# s1과 s2의 합집합\n",
    "s1.union(s2)"
   ]
  },
  {
   "cell_type": "code",
   "execution_count": 24,
   "id": "ad600001",
   "metadata": {},
   "outputs": [
    {
     "data": {
      "text/plain": [
       "{1, 2, 3, 4, 5, 6, 7}"
      ]
     },
     "execution_count": 24,
     "metadata": {},
     "output_type": "execute_result"
    }
   ],
   "source": [
    "s1 | s2"
   ]
  },
  {
   "cell_type": "code",
   "execution_count": 25,
   "id": "9c0f72ea",
   "metadata": {},
   "outputs": [
    {
     "data": {
      "text/plain": [
       "{3, 4, 5}"
      ]
     },
     "execution_count": 25,
     "metadata": {},
     "output_type": "execute_result"
    }
   ],
   "source": [
    "# s1과 s2의 교집합\n",
    "s1.intersection(s2)"
   ]
  },
  {
   "cell_type": "code",
   "execution_count": 26,
   "id": "b7c30858",
   "metadata": {},
   "outputs": [
    {
     "data": {
      "text/plain": [
       "{3, 4, 5}"
      ]
     },
     "execution_count": 26,
     "metadata": {},
     "output_type": "execute_result"
    }
   ],
   "source": [
    "s1 & s2"
   ]
  },
  {
   "cell_type": "code",
   "execution_count": 27,
   "id": "dc325352",
   "metadata": {},
   "outputs": [
    {
     "data": {
      "text/plain": [
       "{1, 2}"
      ]
     },
     "execution_count": 27,
     "metadata": {},
     "output_type": "execute_result"
    }
   ],
   "source": [
    "# s1과 s2의 차집합\n",
    "s1.difference(s2)"
   ]
  },
  {
   "cell_type": "code",
   "execution_count": 28,
   "id": "46cd5d8c",
   "metadata": {},
   "outputs": [
    {
     "data": {
      "text/plain": [
       "{1, 2}"
      ]
     },
     "execution_count": 28,
     "metadata": {},
     "output_type": "execute_result"
    }
   ],
   "source": [
    "s1 - s2"
   ]
  },
  {
   "cell_type": "markdown",
   "id": "fc263153",
   "metadata": {},
   "source": [
    "## **dictionary**"
   ]
  },
  {
   "cell_type": "code",
   "execution_count": 29,
   "id": "d9b76ade",
   "metadata": {},
   "outputs": [],
   "source": [
    "# Dict 생성, country_code = dict()도 가능\n",
    "country_code = {}\n",
    "country_code = {'America' : 1,\n",
    "               'Korea' : 82,\n",
    "               'Japan' : 81}"
   ]
  },
  {
   "cell_type": "code",
   "execution_count": 30,
   "id": "26276421",
   "metadata": {},
   "outputs": [
    {
     "data": {
      "text/plain": [
       "dict_items([('America', 1), ('Korea', 82), ('Japan', 81)])"
      ]
     },
     "execution_count": 30,
     "metadata": {},
     "output_type": "execute_result"
    }
   ],
   "source": [
    "# Dict 데이터 출력\n",
    "country_code.items()"
   ]
  },
  {
   "cell_type": "code",
   "execution_count": 31,
   "id": "5004cdc6",
   "metadata": {},
   "outputs": [
    {
     "data": {
      "text/plain": [
       "dict_keys(['America', 'Korea', 'Japan'])"
      ]
     },
     "execution_count": 31,
     "metadata": {},
     "output_type": "execute_result"
    }
   ],
   "source": [
    "# Dict 키 값만 출력\n",
    "country_code.keys()"
   ]
  },
  {
   "cell_type": "code",
   "execution_count": 32,
   "id": "9cc890e6",
   "metadata": {},
   "outputs": [
    {
     "data": {
      "text/plain": [
       "{'America': 1, 'Korea': 82, 'Japan': 81, 'German': 49}"
      ]
     },
     "execution_count": 32,
     "metadata": {},
     "output_type": "execute_result"
    }
   ],
   "source": [
    "# Dict 추가\n",
    "country_code['German'] = 49\n",
    "country_code"
   ]
  },
  {
   "cell_type": "code",
   "execution_count": 33,
   "id": "7cf9769c",
   "metadata": {},
   "outputs": [
    {
     "data": {
      "text/plain": [
       "dict_values([1, 82, 81, 49])"
      ]
     },
     "execution_count": 33,
     "metadata": {},
     "output_type": "execute_result"
    }
   ],
   "source": [
    "# Dict Value만 출력\n",
    "country_code.values()"
   ]
  },
  {
   "cell_type": "code",
   "execution_count": 34,
   "id": "66070f97",
   "metadata": {},
   "outputs": [
    {
     "name": "stdout",
     "output_type": "stream",
     "text": [
      "Key : America\n",
      "Value : 1\n",
      "Key : Korea\n",
      "Value : 82\n",
      "Key : Japan\n",
      "Value : 81\n",
      "Key : German\n",
      "Value : 49\n"
     ]
    }
   ],
   "source": [
    "for k, v in country_code.items():\n",
    "    print('Key :', k)\n",
    "    print('Value :', v)"
   ]
  },
  {
   "cell_type": "code",
   "execution_count": 35,
   "id": "0fa79d1e",
   "metadata": {},
   "outputs": [
    {
     "data": {
      "text/plain": [
       "True"
      ]
     },
     "execution_count": 35,
     "metadata": {},
     "output_type": "execute_result"
    }
   ],
   "source": [
    "\"Korea\" in country_code.keys() # Key값에 Korea가 있는지 확인"
   ]
  },
  {
   "cell_type": "code",
   "execution_count": 36,
   "id": "42751be6",
   "metadata": {},
   "outputs": [
    {
     "data": {
      "text/plain": [
       "True"
      ]
     },
     "execution_count": 36,
     "metadata": {},
     "output_type": "execute_result"
    }
   ],
   "source": [
    "82 in country_code.values() # Value값에 82가 있는지 확인"
   ]
  },
  {
   "cell_type": "markdown",
   "id": "7ce83933",
   "metadata": {},
   "source": [
    "## **collections**\n",
    "- from collections import deque\n",
    "- from collections import Countet\n",
    "- from collections import OrderedDict\n",
    "- from collections import defaultdict\n",
    "- from collections import namedtuple"
   ]
  },
  {
   "cell_type": "code",
   "execution_count": 37,
   "id": "5393e86e",
   "metadata": {},
   "outputs": [],
   "source": [
    "# deque\n",
    "# Stack과 Queue를 지원하는 모듈\n",
    "from collections import deque"
   ]
  },
  {
   "cell_type": "code",
   "execution_count": 38,
   "id": "1aebb1c9",
   "metadata": {},
   "outputs": [
    {
     "name": "stdout",
     "output_type": "stream",
     "text": [
      "deque([0, 1, 2, 3, 4])\n"
     ]
    }
   ],
   "source": [
    "deque_list = deque()\n",
    "for i in range(5):\n",
    "    deque_list.append(i)\n",
    "print(deque_list)"
   ]
  },
  {
   "cell_type": "code",
   "execution_count": 39,
   "id": "5a639c89",
   "metadata": {},
   "outputs": [
    {
     "name": "stdout",
     "output_type": "stream",
     "text": [
      "deque([10, 0, 1, 2, 3, 4])\n"
     ]
    }
   ],
   "source": [
    "deque_list.appendleft(10)\n",
    "print(deque_list)"
   ]
  },
  {
   "cell_type": "code",
   "execution_count": 40,
   "id": "3452501e",
   "metadata": {},
   "outputs": [
    {
     "name": "stdout",
     "output_type": "stream",
     "text": [
      "deque([3, 4, 10, 0, 1, 2])\n"
     ]
    }
   ],
   "source": [
    "deque_list.rotate(2)\n",
    "print(deque_list)"
   ]
  },
  {
   "cell_type": "code",
   "execution_count": 41,
   "id": "c453d008",
   "metadata": {},
   "outputs": [
    {
     "name": "stdout",
     "output_type": "stream",
     "text": [
      "deque([1, 2, 3, 4, 10, 0])\n",
      "deque([0, 10, 4, 3, 2, 1])\n"
     ]
    }
   ],
   "source": [
    "deque_list.rotate(2)\n",
    "print(deque_list)\n",
    "print(deque(reversed(deque_list)))"
   ]
  },
  {
   "cell_type": "code",
   "execution_count": 42,
   "id": "1a5e2c9f",
   "metadata": {},
   "outputs": [
    {
     "name": "stdout",
     "output_type": "stream",
     "text": [
      "deque([1, 2, 3, 4, 10, 0, 5, 6, 7])\n"
     ]
    }
   ],
   "source": [
    "deque_list.extend([5, 6, 7])\n",
    "print(deque_list)"
   ]
  },
  {
   "cell_type": "code",
   "execution_count": 43,
   "id": "22bc565d",
   "metadata": {},
   "outputs": [
    {
     "name": "stdout",
     "output_type": "stream",
     "text": [
      "deque([7, 6, 5, 1, 2, 3, 4, 10, 0, 5, 6, 7])\n"
     ]
    }
   ],
   "source": [
    "deque_list.extendleft([5, 6, 7])\n",
    "print(deque_list)"
   ]
  },
  {
   "cell_type": "code",
   "execution_count": 46,
   "id": "41a8600b",
   "metadata": {},
   "outputs": [
    {
     "name": "stdout",
     "output_type": "stream",
     "text": [
      "2.6 ms ± 260 µs per loop (mean ± std. dev. of 7 runs, 100 loops each)\n"
     ]
    }
   ],
   "source": [
    "# deque는 기존 list보다 효율적인 자료구조를 제공\n",
    "\n",
    "# deque\n",
    "def deque_list():\n",
    "    deque_list = deque()\n",
    "    # Stack\n",
    "    for i in range(100):\n",
    "        for i in range(100):\n",
    "            deque_list.append(i)\n",
    "            deque_list.pop()\n",
    "\n",
    "%timeit deque_list()"
   ]
  },
  {
   "cell_type": "code",
   "execution_count": 47,
   "id": "ee77c2cd",
   "metadata": {},
   "outputs": [
    {
     "name": "stdout",
     "output_type": "stream",
     "text": [
      "7.43 ms ± 271 µs per loop (mean ± std. dev. of 7 runs, 100 loops each)\n"
     ]
    }
   ],
   "source": [
    "def general_list():\n",
    "    just_list = []\n",
    "    # Stack\n",
    "    for i in range(100):\n",
    "        for i in range(100):\n",
    "            just_list.append(i)\n",
    "            just_list.pop()\n",
    "\n",
    "%timeit general_list()"
   ]
  },
  {
   "cell_type": "code",
   "execution_count": 2,
   "id": "bd40931c",
   "metadata": {},
   "outputs": [
    {
     "data": {
      "text/plain": [
       "defaultdict(<function __main__.<lambda>()>, {})"
      ]
     },
     "execution_count": 2,
     "metadata": {},
     "output_type": "execute_result"
    }
   ],
   "source": [
    "# defaultdict\n",
    "# Dict type의 값에 기본 값을 지정, 신규값 생성시 사용하는 방법\n",
    "from collections import defaultdict\n",
    "d = defaultdict(object) # Default dictionary를 생성\n",
    "d = defaultdict(lambda: 0) # Default 값을 0으로 설정\n",
    "d"
   ]
  },
  {
   "cell_type": "code",
   "execution_count": 3,
   "id": "aa872f3e",
   "metadata": {},
   "outputs": [
    {
     "data": {
      "text/plain": [
       "0"
      ]
     },
     "execution_count": 3,
     "metadata": {},
     "output_type": "execute_result"
    }
   ],
   "source": [
    "d['second']"
   ]
  },
  {
   "cell_type": "code",
   "execution_count": 4,
   "id": "9a495c25",
   "metadata": {},
   "outputs": [
    {
     "data": {
      "text/plain": [
       "defaultdict(<function __main__.default_value()>, {})"
      ]
     },
     "execution_count": 4,
     "metadata": {},
     "output_type": "execute_result"
    }
   ],
   "source": [
    "# default_dict_example\n",
    "def default_value():\n",
    "    return 10\n",
    "\n",
    "d = defaultdict(default_value)\n",
    "d"
   ]
  },
  {
   "cell_type": "code",
   "execution_count": 5,
   "id": "f92cae4a",
   "metadata": {},
   "outputs": [
    {
     "data": {
      "text/plain": [
       "10"
      ]
     },
     "execution_count": 5,
     "metadata": {},
     "output_type": "execute_result"
    }
   ],
   "source": [
    "d['first']"
   ]
  },
  {
   "cell_type": "code",
   "execution_count": 6,
   "id": "1cd2f961",
   "metadata": {},
   "outputs": [],
   "source": [
    "# text-mining 접근법 : Vector Space Model\n",
    "text = \"\"\"A press release is the quickest and easiest way to get free publicity.\n",
    "If well written, a press release can result in multiple published articles about your\n",
    "firm and its products. And that can mean new prospects contacting you asking you to sell to them.\"\"\".lower().split()"
   ]
  },
  {
   "cell_type": "code",
   "execution_count": 7,
   "id": "450c052a",
   "metadata": {},
   "outputs": [
    {
     "data": {
      "text/plain": [
       "['a',\n",
       " 'press',\n",
       " 'release',\n",
       " 'is',\n",
       " 'the',\n",
       " 'quickest',\n",
       " 'and',\n",
       " 'easiest',\n",
       " 'way',\n",
       " 'to',\n",
       " 'get',\n",
       " 'free',\n",
       " 'publicity.',\n",
       " 'if',\n",
       " 'well',\n",
       " 'written,',\n",
       " 'a',\n",
       " 'press',\n",
       " 'release',\n",
       " 'can',\n",
       " 'result',\n",
       " 'in',\n",
       " 'multiple',\n",
       " 'published',\n",
       " 'articles',\n",
       " 'about',\n",
       " 'your',\n",
       " 'firm',\n",
       " 'and',\n",
       " 'its',\n",
       " 'products.',\n",
       " 'and',\n",
       " 'that',\n",
       " 'can',\n",
       " 'mean',\n",
       " 'new',\n",
       " 'prospects',\n",
       " 'contacting',\n",
       " 'you',\n",
       " 'asking',\n",
       " 'you',\n",
       " 'to',\n",
       " 'sell',\n",
       " 'to',\n",
       " 'them.']"
      ]
     },
     "execution_count": 7,
     "metadata": {},
     "output_type": "execute_result"
    }
   ],
   "source": [
    "text"
   ]
  },
  {
   "cell_type": "code",
   "execution_count": 8,
   "id": "fa1b3f60",
   "metadata": {},
   "outputs": [],
   "source": [
    "def get_key(x):\n",
    "    return x[1]"
   ]
  },
  {
   "cell_type": "code",
   "execution_count": 9,
   "id": "1183c8b1",
   "metadata": {},
   "outputs": [],
   "source": [
    "from collections import OrderedDict"
   ]
  },
  {
   "cell_type": "code",
   "execution_count": 10,
   "id": "a7a97096",
   "metadata": {},
   "outputs": [
    {
     "name": "stdout",
     "output_type": "stream",
     "text": [
      "OrderedDict([('and', 3), ('to', 3), ('a', 2), ('press', 2), ('release', 2), ('can', 2), ('you', 2), ('is', 1), ('the', 1), ('quickest', 1), ('easiest', 1), ('way', 1), ('get', 1), ('free', 1), ('publicity.', 1), ('if', 1), ('well', 1), ('written,', 1), ('result', 1), ('in', 1), ('multiple', 1), ('published', 1), ('articles', 1), ('about', 1), ('your', 1), ('firm', 1), ('its', 1), ('products.', 1), ('that', 1), ('mean', 1), ('new', 1), ('prospects', 1), ('contacting', 1), ('asking', 1), ('sell', 1), ('them.', 1)])\n"
     ]
    }
   ],
   "source": [
    "d = defaultdict(lambda: 0)\n",
    "for word in text:\n",
    "    d[word] += 1\n",
    "    \n",
    "sorted_dict = OrderedDict()\n",
    "for i, v in sorted(d.items(), key=get_key, reverse=True):\n",
    "    sorted_dict[i] = v\n",
    "    \n",
    "print(sorted_dict)"
   ]
  },
  {
   "cell_type": "code",
   "execution_count": 11,
   "id": "81ca7090",
   "metadata": {},
   "outputs": [
    {
     "data": {
      "text/plain": [
       "3"
      ]
     },
     "execution_count": 11,
     "metadata": {},
     "output_type": "execute_result"
    }
   ],
   "source": [
    "sorted_dict['to']"
   ]
  },
  {
   "cell_type": "code",
   "execution_count": 12,
   "id": "6438cbe7",
   "metadata": {},
   "outputs": [
    {
     "name": "stdout",
     "output_type": "stream",
     "text": [
      "Counter({'a': 3, 'l': 2, 'g': 1, 'h': 1, 'd': 1})\n"
     ]
    }
   ],
   "source": [
    "# counter\n",
    "# Sequence type의 data element들의 갯수를 dict 형태로 반환\n",
    "from collections import Counter\n",
    "\n",
    "c = Counter()\n",
    "c = Counter('gallahad')\n",
    "print(c)"
   ]
  },
  {
   "cell_type": "code",
   "execution_count": 13,
   "id": "3449d568",
   "metadata": {},
   "outputs": [
    {
     "name": "stdout",
     "output_type": "stream",
     "text": [
      "['red', 'red', 'red', 'red', 'blue', 'blue']\n"
     ]
    }
   ],
   "source": [
    "c = Counter({'red' : 4, 'blue' : 2})\n",
    "print(list(c.elements()))"
   ]
  },
  {
   "cell_type": "code",
   "execution_count": 14,
   "id": "a5130f98",
   "metadata": {},
   "outputs": [
    {
     "name": "stdout",
     "output_type": "stream",
     "text": [
      "['cats', 'cats', 'cats', 'cats', 'dogs', 'dogs', 'dogs', 'dogs', 'dogs', 'dogs', 'dogs', 'dogs']\n"
     ]
    }
   ],
   "source": [
    "c = Counter(cats=4, dogs=8)\n",
    "print(list(c.elements()))"
   ]
  },
  {
   "cell_type": "code",
   "execution_count": 15,
   "id": "5fd3ebc3",
   "metadata": {},
   "outputs": [
    {
     "data": {
      "text/plain": [
       "__main__.Point"
      ]
     },
     "execution_count": 15,
     "metadata": {},
     "output_type": "execute_result"
    }
   ],
   "source": [
    "# namedtuple\n",
    "# Tuple 형태로 Data 구조체를 저장하는 방법\n",
    "from collections import namedtuple\n",
    "\n",
    "Point = namedtuple('Point', ['x', 'y'])\n",
    "Point"
   ]
  },
  {
   "cell_type": "code",
   "execution_count": 16,
   "id": "6473339f",
   "metadata": {},
   "outputs": [
    {
     "data": {
      "text/plain": [
       "(11, 22)"
      ]
     },
     "execution_count": 16,
     "metadata": {},
     "output_type": "execute_result"
    }
   ],
   "source": [
    "p = Point(11, y=22)\n",
    "p[0], p[1]"
   ]
  },
  {
   "cell_type": "code",
   "execution_count": 17,
   "id": "d80fd7cf",
   "metadata": {},
   "outputs": [
    {
     "name": "stdout",
     "output_type": "stream",
     "text": [
      "11 22\n",
      "33\n",
      "Point(x=11, y=22)\n"
     ]
    }
   ],
   "source": [
    "x, y = p\n",
    "print(x, y)\n",
    "print(p.x + p.y)\n",
    "print(Point(x=11, y=22))"
   ]
  },
  {
   "cell_type": "code",
   "execution_count": null,
   "id": "1c849ce4",
   "metadata": {},
   "outputs": [],
   "source": []
  }
 ],
 "metadata": {
  "kernelspec": {
   "display_name": "precourse",
   "language": "python",
   "name": "precourse"
  },
  "language_info": {
   "codemirror_mode": {
    "name": "ipython",
    "version": 3
   },
   "file_extension": ".py",
   "mimetype": "text/x-python",
   "name": "python",
   "nbconvert_exporter": "python",
   "pygments_lexer": "ipython3",
   "version": "3.8.15"
  }
 },
 "nbformat": 4,
 "nbformat_minor": 5
}
